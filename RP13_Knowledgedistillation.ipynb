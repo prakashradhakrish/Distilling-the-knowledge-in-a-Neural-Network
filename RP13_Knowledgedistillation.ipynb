{
  "nbformat": 4,
  "nbformat_minor": 0,
  "metadata": {
    "colab": {
      "name": "RP13_Knowledgedistillation.ipynb",
      "provenance": [],
      "collapsed_sections": [
        "7VGwfNMtV4Hj",
        "OyptFd51NNLz",
        "eRzjndVXKd-v",
        "PAnLmXf9MJuC",
        "I4jlGEk0NS3G",
        "nhC6w9LyPSLd",
        "CcpdKuI1SCBk"
      ],
      "include_colab_link": true
    },
    "kernelspec": {
      "name": "python3",
      "display_name": "Python 3"
    },
    "accelerator": "GPU",
    "widgets": {
      "application/vnd.jupyter.widget-state+json": {
        "29516dd4e3dc4f59ad384f010d9ba0ba": {
          "model_module": "@jupyter-widgets/controls",
          "model_name": "HBoxModel",
          "state": {
            "_view_name": "HBoxView",
            "_dom_classes": [],
            "_model_name": "HBoxModel",
            "_view_module": "@jupyter-widgets/controls",
            "_model_module_version": "1.5.0",
            "_view_count": null,
            "_view_module_version": "1.5.0",
            "box_style": "",
            "layout": "IPY_MODEL_6391c474dc3d44c4ad6a71cd9c710dfd",
            "_model_module": "@jupyter-widgets/controls",
            "children": [
              "IPY_MODEL_4b40e9ad55b640daa7cc1d962ff95835",
              "IPY_MODEL_1f5ce14a160f4b9495503c4c878d2a39"
            ]
          }
        },
        "6391c474dc3d44c4ad6a71cd9c710dfd": {
          "model_module": "@jupyter-widgets/base",
          "model_name": "LayoutModel",
          "state": {
            "_view_name": "LayoutView",
            "grid_template_rows": null,
            "right": null,
            "justify_content": null,
            "_view_module": "@jupyter-widgets/base",
            "overflow": null,
            "_model_module_version": "1.2.0",
            "_view_count": null,
            "flex_flow": null,
            "width": null,
            "min_width": null,
            "border": null,
            "align_items": null,
            "bottom": null,
            "_model_module": "@jupyter-widgets/base",
            "top": null,
            "grid_column": null,
            "overflow_y": null,
            "overflow_x": null,
            "grid_auto_flow": null,
            "grid_area": null,
            "grid_template_columns": null,
            "flex": null,
            "_model_name": "LayoutModel",
            "justify_items": null,
            "grid_row": null,
            "max_height": null,
            "align_content": null,
            "visibility": null,
            "align_self": null,
            "height": null,
            "min_height": null,
            "padding": null,
            "grid_auto_rows": null,
            "grid_gap": null,
            "max_width": null,
            "order": null,
            "_view_module_version": "1.2.0",
            "grid_template_areas": null,
            "object_position": null,
            "object_fit": null,
            "grid_auto_columns": null,
            "margin": null,
            "display": null,
            "left": null
          }
        },
        "4b40e9ad55b640daa7cc1d962ff95835": {
          "model_module": "@jupyter-widgets/controls",
          "model_name": "IntProgressModel",
          "state": {
            "_view_name": "ProgressView",
            "style": "IPY_MODEL_7eab7589ad0f4f5c8bdd87a05a69fd23",
            "_dom_classes": [],
            "description": "",
            "_model_name": "IntProgressModel",
            "bar_style": "info",
            "max": 1,
            "_view_module": "@jupyter-widgets/controls",
            "_model_module_version": "1.5.0",
            "value": 1,
            "_view_count": null,
            "_view_module_version": "1.5.0",
            "orientation": "horizontal",
            "min": 0,
            "description_tooltip": null,
            "_model_module": "@jupyter-widgets/controls",
            "layout": "IPY_MODEL_77f1d3b3d9a4479f93eb4d613a175eee"
          }
        },
        "1f5ce14a160f4b9495503c4c878d2a39": {
          "model_module": "@jupyter-widgets/controls",
          "model_name": "HTMLModel",
          "state": {
            "_view_name": "HTMLView",
            "style": "IPY_MODEL_36437a21969d4c1ea0deccef68abb6f1",
            "_dom_classes": [],
            "description": "",
            "_model_name": "HTMLModel",
            "placeholder": "​",
            "_view_module": "@jupyter-widgets/controls",
            "_model_module_version": "1.5.0",
            "value": " 9920512/? [00:20&lt;00:00, 1692557.37it/s]",
            "_view_count": null,
            "_view_module_version": "1.5.0",
            "description_tooltip": null,
            "_model_module": "@jupyter-widgets/controls",
            "layout": "IPY_MODEL_8460505eaaaf4e4ea8f4518db2ced818"
          }
        },
        "7eab7589ad0f4f5c8bdd87a05a69fd23": {
          "model_module": "@jupyter-widgets/controls",
          "model_name": "ProgressStyleModel",
          "state": {
            "_view_name": "StyleView",
            "_model_name": "ProgressStyleModel",
            "description_width": "initial",
            "_view_module": "@jupyter-widgets/base",
            "_model_module_version": "1.5.0",
            "_view_count": null,
            "_view_module_version": "1.2.0",
            "bar_color": null,
            "_model_module": "@jupyter-widgets/controls"
          }
        },
        "77f1d3b3d9a4479f93eb4d613a175eee": {
          "model_module": "@jupyter-widgets/base",
          "model_name": "LayoutModel",
          "state": {
            "_view_name": "LayoutView",
            "grid_template_rows": null,
            "right": null,
            "justify_content": null,
            "_view_module": "@jupyter-widgets/base",
            "overflow": null,
            "_model_module_version": "1.2.0",
            "_view_count": null,
            "flex_flow": null,
            "width": null,
            "min_width": null,
            "border": null,
            "align_items": null,
            "bottom": null,
            "_model_module": "@jupyter-widgets/base",
            "top": null,
            "grid_column": null,
            "overflow_y": null,
            "overflow_x": null,
            "grid_auto_flow": null,
            "grid_area": null,
            "grid_template_columns": null,
            "flex": null,
            "_model_name": "LayoutModel",
            "justify_items": null,
            "grid_row": null,
            "max_height": null,
            "align_content": null,
            "visibility": null,
            "align_self": null,
            "height": null,
            "min_height": null,
            "padding": null,
            "grid_auto_rows": null,
            "grid_gap": null,
            "max_width": null,
            "order": null,
            "_view_module_version": "1.2.0",
            "grid_template_areas": null,
            "object_position": null,
            "object_fit": null,
            "grid_auto_columns": null,
            "margin": null,
            "display": null,
            "left": null
          }
        },
        "36437a21969d4c1ea0deccef68abb6f1": {
          "model_module": "@jupyter-widgets/controls",
          "model_name": "DescriptionStyleModel",
          "state": {
            "_view_name": "StyleView",
            "_model_name": "DescriptionStyleModel",
            "description_width": "",
            "_view_module": "@jupyter-widgets/base",
            "_model_module_version": "1.5.0",
            "_view_count": null,
            "_view_module_version": "1.2.0",
            "_model_module": "@jupyter-widgets/controls"
          }
        },
        "8460505eaaaf4e4ea8f4518db2ced818": {
          "model_module": "@jupyter-widgets/base",
          "model_name": "LayoutModel",
          "state": {
            "_view_name": "LayoutView",
            "grid_template_rows": null,
            "right": null,
            "justify_content": null,
            "_view_module": "@jupyter-widgets/base",
            "overflow": null,
            "_model_module_version": "1.2.0",
            "_view_count": null,
            "flex_flow": null,
            "width": null,
            "min_width": null,
            "border": null,
            "align_items": null,
            "bottom": null,
            "_model_module": "@jupyter-widgets/base",
            "top": null,
            "grid_column": null,
            "overflow_y": null,
            "overflow_x": null,
            "grid_auto_flow": null,
            "grid_area": null,
            "grid_template_columns": null,
            "flex": null,
            "_model_name": "LayoutModel",
            "justify_items": null,
            "grid_row": null,
            "max_height": null,
            "align_content": null,
            "visibility": null,
            "align_self": null,
            "height": null,
            "min_height": null,
            "padding": null,
            "grid_auto_rows": null,
            "grid_gap": null,
            "max_width": null,
            "order": null,
            "_view_module_version": "1.2.0",
            "grid_template_areas": null,
            "object_position": null,
            "object_fit": null,
            "grid_auto_columns": null,
            "margin": null,
            "display": null,
            "left": null
          }
        },
        "b26bd285f9e94c4b8975de882e7a9fc0": {
          "model_module": "@jupyter-widgets/controls",
          "model_name": "HBoxModel",
          "state": {
            "_view_name": "HBoxView",
            "_dom_classes": [],
            "_model_name": "HBoxModel",
            "_view_module": "@jupyter-widgets/controls",
            "_model_module_version": "1.5.0",
            "_view_count": null,
            "_view_module_version": "1.5.0",
            "box_style": "",
            "layout": "IPY_MODEL_147f796be13b47339891cf11fc61b987",
            "_model_module": "@jupyter-widgets/controls",
            "children": [
              "IPY_MODEL_40081119dcd3409598f0345867f3d40b",
              "IPY_MODEL_3e510423fe9343a98bc18b6ea89e9b30"
            ]
          }
        },
        "147f796be13b47339891cf11fc61b987": {
          "model_module": "@jupyter-widgets/base",
          "model_name": "LayoutModel",
          "state": {
            "_view_name": "LayoutView",
            "grid_template_rows": null,
            "right": null,
            "justify_content": null,
            "_view_module": "@jupyter-widgets/base",
            "overflow": null,
            "_model_module_version": "1.2.0",
            "_view_count": null,
            "flex_flow": null,
            "width": null,
            "min_width": null,
            "border": null,
            "align_items": null,
            "bottom": null,
            "_model_module": "@jupyter-widgets/base",
            "top": null,
            "grid_column": null,
            "overflow_y": null,
            "overflow_x": null,
            "grid_auto_flow": null,
            "grid_area": null,
            "grid_template_columns": null,
            "flex": null,
            "_model_name": "LayoutModel",
            "justify_items": null,
            "grid_row": null,
            "max_height": null,
            "align_content": null,
            "visibility": null,
            "align_self": null,
            "height": null,
            "min_height": null,
            "padding": null,
            "grid_auto_rows": null,
            "grid_gap": null,
            "max_width": null,
            "order": null,
            "_view_module_version": "1.2.0",
            "grid_template_areas": null,
            "object_position": null,
            "object_fit": null,
            "grid_auto_columns": null,
            "margin": null,
            "display": null,
            "left": null
          }
        },
        "40081119dcd3409598f0345867f3d40b": {
          "model_module": "@jupyter-widgets/controls",
          "model_name": "IntProgressModel",
          "state": {
            "_view_name": "ProgressView",
            "style": "IPY_MODEL_6f0e5aa75ab244c88674a8b2ec74c441",
            "_dom_classes": [],
            "description": "",
            "_model_name": "IntProgressModel",
            "bar_style": "info",
            "max": 1,
            "_view_module": "@jupyter-widgets/controls",
            "_model_module_version": "1.5.0",
            "value": 1,
            "_view_count": null,
            "_view_module_version": "1.5.0",
            "orientation": "horizontal",
            "min": 0,
            "description_tooltip": null,
            "_model_module": "@jupyter-widgets/controls",
            "layout": "IPY_MODEL_b8661822884d4578ab7daa49342811b4"
          }
        },
        "3e510423fe9343a98bc18b6ea89e9b30": {
          "model_module": "@jupyter-widgets/controls",
          "model_name": "HTMLModel",
          "state": {
            "_view_name": "HTMLView",
            "style": "IPY_MODEL_f5ca9e5c03f044958890ec4887ad8f89",
            "_dom_classes": [],
            "description": "",
            "_model_name": "HTMLModel",
            "placeholder": "​",
            "_view_module": "@jupyter-widgets/controls",
            "_model_module_version": "1.5.0",
            "value": " 32768/? [00:16&lt;00:00, 72744.66it/s]",
            "_view_count": null,
            "_view_module_version": "1.5.0",
            "description_tooltip": null,
            "_model_module": "@jupyter-widgets/controls",
            "layout": "IPY_MODEL_ee61b3022cd8423a9a1902d4681f85b2"
          }
        },
        "6f0e5aa75ab244c88674a8b2ec74c441": {
          "model_module": "@jupyter-widgets/controls",
          "model_name": "ProgressStyleModel",
          "state": {
            "_view_name": "StyleView",
            "_model_name": "ProgressStyleModel",
            "description_width": "initial",
            "_view_module": "@jupyter-widgets/base",
            "_model_module_version": "1.5.0",
            "_view_count": null,
            "_view_module_version": "1.2.0",
            "bar_color": null,
            "_model_module": "@jupyter-widgets/controls"
          }
        },
        "b8661822884d4578ab7daa49342811b4": {
          "model_module": "@jupyter-widgets/base",
          "model_name": "LayoutModel",
          "state": {
            "_view_name": "LayoutView",
            "grid_template_rows": null,
            "right": null,
            "justify_content": null,
            "_view_module": "@jupyter-widgets/base",
            "overflow": null,
            "_model_module_version": "1.2.0",
            "_view_count": null,
            "flex_flow": null,
            "width": null,
            "min_width": null,
            "border": null,
            "align_items": null,
            "bottom": null,
            "_model_module": "@jupyter-widgets/base",
            "top": null,
            "grid_column": null,
            "overflow_y": null,
            "overflow_x": null,
            "grid_auto_flow": null,
            "grid_area": null,
            "grid_template_columns": null,
            "flex": null,
            "_model_name": "LayoutModel",
            "justify_items": null,
            "grid_row": null,
            "max_height": null,
            "align_content": null,
            "visibility": null,
            "align_self": null,
            "height": null,
            "min_height": null,
            "padding": null,
            "grid_auto_rows": null,
            "grid_gap": null,
            "max_width": null,
            "order": null,
            "_view_module_version": "1.2.0",
            "grid_template_areas": null,
            "object_position": null,
            "object_fit": null,
            "grid_auto_columns": null,
            "margin": null,
            "display": null,
            "left": null
          }
        },
        "f5ca9e5c03f044958890ec4887ad8f89": {
          "model_module": "@jupyter-widgets/controls",
          "model_name": "DescriptionStyleModel",
          "state": {
            "_view_name": "StyleView",
            "_model_name": "DescriptionStyleModel",
            "description_width": "",
            "_view_module": "@jupyter-widgets/base",
            "_model_module_version": "1.5.0",
            "_view_count": null,
            "_view_module_version": "1.2.0",
            "_model_module": "@jupyter-widgets/controls"
          }
        },
        "ee61b3022cd8423a9a1902d4681f85b2": {
          "model_module": "@jupyter-widgets/base",
          "model_name": "LayoutModel",
          "state": {
            "_view_name": "LayoutView",
            "grid_template_rows": null,
            "right": null,
            "justify_content": null,
            "_view_module": "@jupyter-widgets/base",
            "overflow": null,
            "_model_module_version": "1.2.0",
            "_view_count": null,
            "flex_flow": null,
            "width": null,
            "min_width": null,
            "border": null,
            "align_items": null,
            "bottom": null,
            "_model_module": "@jupyter-widgets/base",
            "top": null,
            "grid_column": null,
            "overflow_y": null,
            "overflow_x": null,
            "grid_auto_flow": null,
            "grid_area": null,
            "grid_template_columns": null,
            "flex": null,
            "_model_name": "LayoutModel",
            "justify_items": null,
            "grid_row": null,
            "max_height": null,
            "align_content": null,
            "visibility": null,
            "align_self": null,
            "height": null,
            "min_height": null,
            "padding": null,
            "grid_auto_rows": null,
            "grid_gap": null,
            "max_width": null,
            "order": null,
            "_view_module_version": "1.2.0",
            "grid_template_areas": null,
            "object_position": null,
            "object_fit": null,
            "grid_auto_columns": null,
            "margin": null,
            "display": null,
            "left": null
          }
        },
        "16ee5091f1fd4f5591a46da65b480971": {
          "model_module": "@jupyter-widgets/controls",
          "model_name": "HBoxModel",
          "state": {
            "_view_name": "HBoxView",
            "_dom_classes": [],
            "_model_name": "HBoxModel",
            "_view_module": "@jupyter-widgets/controls",
            "_model_module_version": "1.5.0",
            "_view_count": null,
            "_view_module_version": "1.5.0",
            "box_style": "",
            "layout": "IPY_MODEL_670f32f1e1dd498b9ef07fb77cea8a8c",
            "_model_module": "@jupyter-widgets/controls",
            "children": [
              "IPY_MODEL_191982c66dda4cf39191134d07b43ee4",
              "IPY_MODEL_07a577b412af4acda31f617b62b15024"
            ]
          }
        },
        "670f32f1e1dd498b9ef07fb77cea8a8c": {
          "model_module": "@jupyter-widgets/base",
          "model_name": "LayoutModel",
          "state": {
            "_view_name": "LayoutView",
            "grid_template_rows": null,
            "right": null,
            "justify_content": null,
            "_view_module": "@jupyter-widgets/base",
            "overflow": null,
            "_model_module_version": "1.2.0",
            "_view_count": null,
            "flex_flow": null,
            "width": null,
            "min_width": null,
            "border": null,
            "align_items": null,
            "bottom": null,
            "_model_module": "@jupyter-widgets/base",
            "top": null,
            "grid_column": null,
            "overflow_y": null,
            "overflow_x": null,
            "grid_auto_flow": null,
            "grid_area": null,
            "grid_template_columns": null,
            "flex": null,
            "_model_name": "LayoutModel",
            "justify_items": null,
            "grid_row": null,
            "max_height": null,
            "align_content": null,
            "visibility": null,
            "align_self": null,
            "height": null,
            "min_height": null,
            "padding": null,
            "grid_auto_rows": null,
            "grid_gap": null,
            "max_width": null,
            "order": null,
            "_view_module_version": "1.2.0",
            "grid_template_areas": null,
            "object_position": null,
            "object_fit": null,
            "grid_auto_columns": null,
            "margin": null,
            "display": null,
            "left": null
          }
        },
        "191982c66dda4cf39191134d07b43ee4": {
          "model_module": "@jupyter-widgets/controls",
          "model_name": "IntProgressModel",
          "state": {
            "_view_name": "ProgressView",
            "style": "IPY_MODEL_ca24e22163e24d2f969dad6790452515",
            "_dom_classes": [],
            "description": "",
            "_model_name": "IntProgressModel",
            "bar_style": "success",
            "max": 1,
            "_view_module": "@jupyter-widgets/controls",
            "_model_module_version": "1.5.0",
            "value": 1,
            "_view_count": null,
            "_view_module_version": "1.5.0",
            "orientation": "horizontal",
            "min": 0,
            "description_tooltip": null,
            "_model_module": "@jupyter-widgets/controls",
            "layout": "IPY_MODEL_8c9df662367641508c5d51738911595f"
          }
        },
        "07a577b412af4acda31f617b62b15024": {
          "model_module": "@jupyter-widgets/controls",
          "model_name": "HTMLModel",
          "state": {
            "_view_name": "HTMLView",
            "style": "IPY_MODEL_e453357f8a084bb7a1f2f207d3b487e1",
            "_dom_classes": [],
            "description": "",
            "_model_name": "HTMLModel",
            "placeholder": "​",
            "_view_module": "@jupyter-widgets/controls",
            "_model_module_version": "1.5.0",
            "value": " 1654784/? [00:05&lt;00:00, 324260.59it/s]",
            "_view_count": null,
            "_view_module_version": "1.5.0",
            "description_tooltip": null,
            "_model_module": "@jupyter-widgets/controls",
            "layout": "IPY_MODEL_3696d86774124bd6bab9f10f4435f676"
          }
        },
        "ca24e22163e24d2f969dad6790452515": {
          "model_module": "@jupyter-widgets/controls",
          "model_name": "ProgressStyleModel",
          "state": {
            "_view_name": "StyleView",
            "_model_name": "ProgressStyleModel",
            "description_width": "initial",
            "_view_module": "@jupyter-widgets/base",
            "_model_module_version": "1.5.0",
            "_view_count": null,
            "_view_module_version": "1.2.0",
            "bar_color": null,
            "_model_module": "@jupyter-widgets/controls"
          }
        },
        "8c9df662367641508c5d51738911595f": {
          "model_module": "@jupyter-widgets/base",
          "model_name": "LayoutModel",
          "state": {
            "_view_name": "LayoutView",
            "grid_template_rows": null,
            "right": null,
            "justify_content": null,
            "_view_module": "@jupyter-widgets/base",
            "overflow": null,
            "_model_module_version": "1.2.0",
            "_view_count": null,
            "flex_flow": null,
            "width": null,
            "min_width": null,
            "border": null,
            "align_items": null,
            "bottom": null,
            "_model_module": "@jupyter-widgets/base",
            "top": null,
            "grid_column": null,
            "overflow_y": null,
            "overflow_x": null,
            "grid_auto_flow": null,
            "grid_area": null,
            "grid_template_columns": null,
            "flex": null,
            "_model_name": "LayoutModel",
            "justify_items": null,
            "grid_row": null,
            "max_height": null,
            "align_content": null,
            "visibility": null,
            "align_self": null,
            "height": null,
            "min_height": null,
            "padding": null,
            "grid_auto_rows": null,
            "grid_gap": null,
            "max_width": null,
            "order": null,
            "_view_module_version": "1.2.0",
            "grid_template_areas": null,
            "object_position": null,
            "object_fit": null,
            "grid_auto_columns": null,
            "margin": null,
            "display": null,
            "left": null
          }
        },
        "e453357f8a084bb7a1f2f207d3b487e1": {
          "model_module": "@jupyter-widgets/controls",
          "model_name": "DescriptionStyleModel",
          "state": {
            "_view_name": "StyleView",
            "_model_name": "DescriptionStyleModel",
            "description_width": "",
            "_view_module": "@jupyter-widgets/base",
            "_model_module_version": "1.5.0",
            "_view_count": null,
            "_view_module_version": "1.2.0",
            "_model_module": "@jupyter-widgets/controls"
          }
        },
        "3696d86774124bd6bab9f10f4435f676": {
          "model_module": "@jupyter-widgets/base",
          "model_name": "LayoutModel",
          "state": {
            "_view_name": "LayoutView",
            "grid_template_rows": null,
            "right": null,
            "justify_content": null,
            "_view_module": "@jupyter-widgets/base",
            "overflow": null,
            "_model_module_version": "1.2.0",
            "_view_count": null,
            "flex_flow": null,
            "width": null,
            "min_width": null,
            "border": null,
            "align_items": null,
            "bottom": null,
            "_model_module": "@jupyter-widgets/base",
            "top": null,
            "grid_column": null,
            "overflow_y": null,
            "overflow_x": null,
            "grid_auto_flow": null,
            "grid_area": null,
            "grid_template_columns": null,
            "flex": null,
            "_model_name": "LayoutModel",
            "justify_items": null,
            "grid_row": null,
            "max_height": null,
            "align_content": null,
            "visibility": null,
            "align_self": null,
            "height": null,
            "min_height": null,
            "padding": null,
            "grid_auto_rows": null,
            "grid_gap": null,
            "max_width": null,
            "order": null,
            "_view_module_version": "1.2.0",
            "grid_template_areas": null,
            "object_position": null,
            "object_fit": null,
            "grid_auto_columns": null,
            "margin": null,
            "display": null,
            "left": null
          }
        },
        "c25faa3a1c884aaf94412e76527dd7ea": {
          "model_module": "@jupyter-widgets/controls",
          "model_name": "HBoxModel",
          "state": {
            "_view_name": "HBoxView",
            "_dom_classes": [],
            "_model_name": "HBoxModel",
            "_view_module": "@jupyter-widgets/controls",
            "_model_module_version": "1.5.0",
            "_view_count": null,
            "_view_module_version": "1.5.0",
            "box_style": "",
            "layout": "IPY_MODEL_e7c18e888d0e499ca6a082780887c4ee",
            "_model_module": "@jupyter-widgets/controls",
            "children": [
              "IPY_MODEL_50650e0017cd4e268ac5820a84752bb4",
              "IPY_MODEL_db4886ea7a154b74b45c36bd35ecdf7d"
            ]
          }
        },
        "e7c18e888d0e499ca6a082780887c4ee": {
          "model_module": "@jupyter-widgets/base",
          "model_name": "LayoutModel",
          "state": {
            "_view_name": "LayoutView",
            "grid_template_rows": null,
            "right": null,
            "justify_content": null,
            "_view_module": "@jupyter-widgets/base",
            "overflow": null,
            "_model_module_version": "1.2.0",
            "_view_count": null,
            "flex_flow": null,
            "width": null,
            "min_width": null,
            "border": null,
            "align_items": null,
            "bottom": null,
            "_model_module": "@jupyter-widgets/base",
            "top": null,
            "grid_column": null,
            "overflow_y": null,
            "overflow_x": null,
            "grid_auto_flow": null,
            "grid_area": null,
            "grid_template_columns": null,
            "flex": null,
            "_model_name": "LayoutModel",
            "justify_items": null,
            "grid_row": null,
            "max_height": null,
            "align_content": null,
            "visibility": null,
            "align_self": null,
            "height": null,
            "min_height": null,
            "padding": null,
            "grid_auto_rows": null,
            "grid_gap": null,
            "max_width": null,
            "order": null,
            "_view_module_version": "1.2.0",
            "grid_template_areas": null,
            "object_position": null,
            "object_fit": null,
            "grid_auto_columns": null,
            "margin": null,
            "display": null,
            "left": null
          }
        },
        "50650e0017cd4e268ac5820a84752bb4": {
          "model_module": "@jupyter-widgets/controls",
          "model_name": "IntProgressModel",
          "state": {
            "_view_name": "ProgressView",
            "style": "IPY_MODEL_d6acf204b0534469a6fb2585951dde34",
            "_dom_classes": [],
            "description": "",
            "_model_name": "IntProgressModel",
            "bar_style": "success",
            "max": 1,
            "_view_module": "@jupyter-widgets/controls",
            "_model_module_version": "1.5.0",
            "value": 1,
            "_view_count": null,
            "_view_module_version": "1.5.0",
            "orientation": "horizontal",
            "min": 0,
            "description_tooltip": null,
            "_model_module": "@jupyter-widgets/controls",
            "layout": "IPY_MODEL_40af45f5f07340da92b817bd1f928bc6"
          }
        },
        "db4886ea7a154b74b45c36bd35ecdf7d": {
          "model_module": "@jupyter-widgets/controls",
          "model_name": "HTMLModel",
          "state": {
            "_view_name": "HTMLView",
            "style": "IPY_MODEL_67c9933b80a1429f935ea70fa92439da",
            "_dom_classes": [],
            "description": "",
            "_model_name": "HTMLModel",
            "placeholder": "​",
            "_view_module": "@jupyter-widgets/controls",
            "_model_module_version": "1.5.0",
            "value": " 8192/? [00:03&lt;00:00, 2564.15it/s]",
            "_view_count": null,
            "_view_module_version": "1.5.0",
            "description_tooltip": null,
            "_model_module": "@jupyter-widgets/controls",
            "layout": "IPY_MODEL_0e09e3a04952498992298c1a900a4479"
          }
        },
        "d6acf204b0534469a6fb2585951dde34": {
          "model_module": "@jupyter-widgets/controls",
          "model_name": "ProgressStyleModel",
          "state": {
            "_view_name": "StyleView",
            "_model_name": "ProgressStyleModel",
            "description_width": "initial",
            "_view_module": "@jupyter-widgets/base",
            "_model_module_version": "1.5.0",
            "_view_count": null,
            "_view_module_version": "1.2.0",
            "bar_color": null,
            "_model_module": "@jupyter-widgets/controls"
          }
        },
        "40af45f5f07340da92b817bd1f928bc6": {
          "model_module": "@jupyter-widgets/base",
          "model_name": "LayoutModel",
          "state": {
            "_view_name": "LayoutView",
            "grid_template_rows": null,
            "right": null,
            "justify_content": null,
            "_view_module": "@jupyter-widgets/base",
            "overflow": null,
            "_model_module_version": "1.2.0",
            "_view_count": null,
            "flex_flow": null,
            "width": null,
            "min_width": null,
            "border": null,
            "align_items": null,
            "bottom": null,
            "_model_module": "@jupyter-widgets/base",
            "top": null,
            "grid_column": null,
            "overflow_y": null,
            "overflow_x": null,
            "grid_auto_flow": null,
            "grid_area": null,
            "grid_template_columns": null,
            "flex": null,
            "_model_name": "LayoutModel",
            "justify_items": null,
            "grid_row": null,
            "max_height": null,
            "align_content": null,
            "visibility": null,
            "align_self": null,
            "height": null,
            "min_height": null,
            "padding": null,
            "grid_auto_rows": null,
            "grid_gap": null,
            "max_width": null,
            "order": null,
            "_view_module_version": "1.2.0",
            "grid_template_areas": null,
            "object_position": null,
            "object_fit": null,
            "grid_auto_columns": null,
            "margin": null,
            "display": null,
            "left": null
          }
        },
        "67c9933b80a1429f935ea70fa92439da": {
          "model_module": "@jupyter-widgets/controls",
          "model_name": "DescriptionStyleModel",
          "state": {
            "_view_name": "StyleView",
            "_model_name": "DescriptionStyleModel",
            "description_width": "",
            "_view_module": "@jupyter-widgets/base",
            "_model_module_version": "1.5.0",
            "_view_count": null,
            "_view_module_version": "1.2.0",
            "_model_module": "@jupyter-widgets/controls"
          }
        },
        "0e09e3a04952498992298c1a900a4479": {
          "model_module": "@jupyter-widgets/base",
          "model_name": "LayoutModel",
          "state": {
            "_view_name": "LayoutView",
            "grid_template_rows": null,
            "right": null,
            "justify_content": null,
            "_view_module": "@jupyter-widgets/base",
            "overflow": null,
            "_model_module_version": "1.2.0",
            "_view_count": null,
            "flex_flow": null,
            "width": null,
            "min_width": null,
            "border": null,
            "align_items": null,
            "bottom": null,
            "_model_module": "@jupyter-widgets/base",
            "top": null,
            "grid_column": null,
            "overflow_y": null,
            "overflow_x": null,
            "grid_auto_flow": null,
            "grid_area": null,
            "grid_template_columns": null,
            "flex": null,
            "_model_name": "LayoutModel",
            "justify_items": null,
            "grid_row": null,
            "max_height": null,
            "align_content": null,
            "visibility": null,
            "align_self": null,
            "height": null,
            "min_height": null,
            "padding": null,
            "grid_auto_rows": null,
            "grid_gap": null,
            "max_width": null,
            "order": null,
            "_view_module_version": "1.2.0",
            "grid_template_areas": null,
            "object_position": null,
            "object_fit": null,
            "grid_auto_columns": null,
            "margin": null,
            "display": null,
            "left": null
          }
        }
      }
    }
  },
  "cells": [
    {
      "cell_type": "markdown",
      "metadata": {
        "id": "view-in-github",
        "colab_type": "text"
      },
      "source": [
        "<a href=\"https://colab.research.google.com/github/prakashradhakrish/Distilling-the-knowledge-in-a-Neural-Network/blob/master/RP13_Knowledgedistillation.ipynb\" target=\"_parent\"><img src=\"https://colab.research.google.com/assets/colab-badge.svg\" alt=\"Open In Colab\"/></a>"
      ]
    },
    {
      "cell_type": "markdown",
      "metadata": {
        "id": "jd5zDQ9_M3iE",
        "colab_type": "text"
      },
      "source": [
        "## ***KNOWLEDGE DISTILLATION _ RP team 13***\n",
        "\n",
        "\n",
        "---\n",
        "#![alt text](https://drive.google.com/uc?id=1QP4Cpi-CIGLc6kEUYmEIWkOSb3gh7Lzf)\n",
        "\n",
        "\n",
        "---\n",
        "\n",
        "\n",
        "\n",
        "\n"
      ]
    },
    {
      "cell_type": "markdown",
      "metadata": {
        "id": "7VGwfNMtV4Hj",
        "colab_type": "text"
      },
      "source": [
        "# ***Initialisation of the libraries***"
      ]
    },
    {
      "cell_type": "code",
      "metadata": {
        "id": "i9z4Ps52xVqx",
        "colab_type": "code",
        "colab": {}
      },
      "source": [
        "import torch\n",
        "import torchvision\n",
        "import torch.nn as nn\n",
        "import torch.nn.functional as F\n",
        "from torchvision import transforms,datasets\n",
        "import numpy as np\n",
        "import os\n",
        "import torch.optim as optim\n",
        "from torch.optim.lr_scheduler import StepLR\n",
        "import matplotlib.pyplot as plt"
      ],
      "execution_count": 0,
      "outputs": []
    },
    {
      "cell_type": "markdown",
      "metadata": {
        "id": "OyptFd51NNLz",
        "colab_type": "text"
      },
      "source": [
        "# ***Dataset***\n",
        "\n",
        "---\n",
        "Loading dataset with transformation\n"
      ]
    },
    {
      "cell_type": "code",
      "metadata": {
        "id": "DH8B2Xy9uWXq",
        "colab_type": "code",
        "outputId": "f7a0043b-ce1a-4926-f446-2d7b994d50b5",
        "colab": {
          "base_uri": "https://localhost:8080/",
          "height": 123
        }
      },
      "source": [
        "!git clone http://github.com/pytorch/examples\n",
        "os.chdir('examples/mnist')"
      ],
      "execution_count": 0,
      "outputs": [
        {
          "output_type": "stream",
          "text": [
            "Cloning into 'examples'...\n",
            "warning: redirecting to https://github.com/pytorch/examples/\n",
            "remote: Enumerating objects: 2333, done.\u001b[K\n",
            "remote: Total 2333 (delta 0), reused 0 (delta 0), pack-reused 2333\u001b[K\n",
            "Receiving objects: 100% (2333/2333), 39.02 MiB | 10.58 MiB/s, done.\n",
            "Resolving deltas: 100% (1172/1172), done.\n"
          ],
          "name": "stdout"
        }
      ]
    },
    {
      "cell_type": "code",
      "metadata": {
        "id": "hQyrMbehFVC2",
        "colab_type": "code",
        "outputId": "343fa1a5-9d4c-406d-80f2-e0382b6ebf3c",
        "colab": {
          "base_uri": "https://localhost:8080/",
          "height": 340,
          "referenced_widgets": [
            "29516dd4e3dc4f59ad384f010d9ba0ba",
            "6391c474dc3d44c4ad6a71cd9c710dfd",
            "4b40e9ad55b640daa7cc1d962ff95835",
            "1f5ce14a160f4b9495503c4c878d2a39",
            "7eab7589ad0f4f5c8bdd87a05a69fd23",
            "77f1d3b3d9a4479f93eb4d613a175eee",
            "36437a21969d4c1ea0deccef68abb6f1",
            "8460505eaaaf4e4ea8f4518db2ced818",
            "b26bd285f9e94c4b8975de882e7a9fc0",
            "147f796be13b47339891cf11fc61b987",
            "40081119dcd3409598f0345867f3d40b",
            "3e510423fe9343a98bc18b6ea89e9b30",
            "6f0e5aa75ab244c88674a8b2ec74c441",
            "b8661822884d4578ab7daa49342811b4",
            "f5ca9e5c03f044958890ec4887ad8f89",
            "ee61b3022cd8423a9a1902d4681f85b2",
            "16ee5091f1fd4f5591a46da65b480971",
            "670f32f1e1dd498b9ef07fb77cea8a8c",
            "191982c66dda4cf39191134d07b43ee4",
            "07a577b412af4acda31f617b62b15024",
            "ca24e22163e24d2f969dad6790452515",
            "8c9df662367641508c5d51738911595f",
            "e453357f8a084bb7a1f2f207d3b487e1",
            "3696d86774124bd6bab9f10f4435f676",
            "c25faa3a1c884aaf94412e76527dd7ea",
            "e7c18e888d0e499ca6a082780887c4ee",
            "50650e0017cd4e268ac5820a84752bb4",
            "db4886ea7a154b74b45c36bd35ecdf7d",
            "d6acf204b0534469a6fb2585951dde34",
            "40af45f5f07340da92b817bd1f928bc6",
            "67c9933b80a1429f935ea70fa92439da",
            "0e09e3a04952498992298c1a900a4479"
          ]
        }
      },
      "source": [
        "# Transforming the dataset to tensors and translation is added to the dataset\n",
        "transformtrain= transforms.Compose([transforms.RandomAffine(0, translate=(0.07,0)),transforms.ToTensor()])\n",
        "transform = transforms.Compose([transforms.ToTensor()])\n",
        "\n",
        "# Downlading the training set(transformation applied only to trainset) and test set \n",
        "trainset = datasets.MNIST(root='/content/examples/data', download=True, transform=transformtrain)\n",
        "testset = datasets.MNIST(root='/content/examples/data', download=True, transform=transform, train=False)\n",
        "\n",
        "# Batchsize of 100 used for loader\n",
        "trainloader = torch.utils.data.DataLoader(trainset, batch_size=100, shuffle=True, num_workers=2)\n",
        "testloader = torch.utils.data.DataLoader(testset, batch_size=100, shuffle=True, num_workers=2)\n",
        "\n",
        "print(len(trainset), len(testset))"
      ],
      "execution_count": 0,
      "outputs": [
        {
          "output_type": "stream",
          "text": [
            "Downloading http://yann.lecun.com/exdb/mnist/train-images-idx3-ubyte.gz to /content/examples/data/MNIST/raw/train-images-idx3-ubyte.gz\n"
          ],
          "name": "stdout"
        },
        {
          "output_type": "display_data",
          "data": {
            "application/vnd.jupyter.widget-view+json": {
              "model_id": "29516dd4e3dc4f59ad384f010d9ba0ba",
              "version_minor": 0,
              "version_major": 2
            },
            "text/plain": [
              "HBox(children=(IntProgress(value=1, bar_style='info', max=1), HTML(value='')))"
            ]
          },
          "metadata": {
            "tags": []
          }
        },
        {
          "output_type": "stream",
          "text": [
            "Extracting /content/examples/data/MNIST/raw/train-images-idx3-ubyte.gz to /content/examples/data/MNIST/raw\n",
            "Downloading http://yann.lecun.com/exdb/mnist/train-labels-idx1-ubyte.gz to /content/examples/data/MNIST/raw/train-labels-idx1-ubyte.gz\n"
          ],
          "name": "stdout"
        },
        {
          "output_type": "display_data",
          "data": {
            "application/vnd.jupyter.widget-view+json": {
              "model_id": "b26bd285f9e94c4b8975de882e7a9fc0",
              "version_minor": 0,
              "version_major": 2
            },
            "text/plain": [
              "HBox(children=(IntProgress(value=1, bar_style='info', max=1), HTML(value='')))"
            ]
          },
          "metadata": {
            "tags": []
          }
        },
        {
          "output_type": "stream",
          "text": [
            "Extracting /content/examples/data/MNIST/raw/train-labels-idx1-ubyte.gz to /content/examples/data/MNIST/raw\n",
            "Downloading http://yann.lecun.com/exdb/mnist/t10k-images-idx3-ubyte.gz to /content/examples/data/MNIST/raw/t10k-images-idx3-ubyte.gz\n"
          ],
          "name": "stdout"
        },
        {
          "output_type": "display_data",
          "data": {
            "application/vnd.jupyter.widget-view+json": {
              "model_id": "16ee5091f1fd4f5591a46da65b480971",
              "version_minor": 0,
              "version_major": 2
            },
            "text/plain": [
              "HBox(children=(IntProgress(value=1, bar_style='info', max=1), HTML(value='')))"
            ]
          },
          "metadata": {
            "tags": []
          }
        },
        {
          "output_type": "stream",
          "text": [
            "Extracting /content/examples/data/MNIST/raw/t10k-images-idx3-ubyte.gz to /content/examples/data/MNIST/raw\n",
            "Downloading http://yann.lecun.com/exdb/mnist/t10k-labels-idx1-ubyte.gz to /content/examples/data/MNIST/raw/t10k-labels-idx1-ubyte.gz\n"
          ],
          "name": "stdout"
        },
        {
          "output_type": "display_data",
          "data": {
            "application/vnd.jupyter.widget-view+json": {
              "model_id": "c25faa3a1c884aaf94412e76527dd7ea",
              "version_minor": 0,
              "version_major": 2
            },
            "text/plain": [
              "HBox(children=(IntProgress(value=1, bar_style='info', max=1), HTML(value='')))"
            ]
          },
          "metadata": {
            "tags": []
          }
        },
        {
          "output_type": "stream",
          "text": [
            "Extracting /content/examples/data/MNIST/raw/t10k-labels-idx1-ubyte.gz to /content/examples/data/MNIST/raw\n",
            "Processing...\n",
            "Done!\n",
            "60000 10000\n"
          ],
          "name": "stdout"
        }
      ]
    },
    {
      "cell_type": "markdown",
      "metadata": {
        "id": "gSQVPZ7wYc67",
        "colab_type": "text"
      },
      "source": [
        ""
      ]
    },
    {
      "cell_type": "markdown",
      "metadata": {
        "colab_type": "text",
        "id": "eRzjndVXKd-v"
      },
      "source": [
        "# ***Network architecture***\n",
        "\n",
        "---\n",
        "Defining the model architecture of the **teacher and student network**\n",
        "\n",
        "\n",
        "1.   TeacherNetwork - 2 hidden layer 1200 units\n",
        "2.   StudentNetwork - 2 hidden layer 800 units\n",
        "3.   StudentNetwork_small - 2 hidden layer 300 units\n",
        "4.   StudentNetwork_mini - 2 hidden layer 30 units\n",
        "\n",
        "\n",
        "\n",
        "\n"
      ]
    },
    {
      "cell_type": "code",
      "metadata": {
        "id": "qk01vwHIyjIq",
        "colab_type": "code",
        "colab": {}
      },
      "source": [
        "use_gpu = torch.cuda.is_available()\n",
        "\n",
        "class TeacherNetwork(nn.Module):\n",
        "    def __init__(self):\n",
        "        super(TeacherNetwork, self).__init__()\n",
        "        self.fc1 = nn.Linear(28 * 28, 1200)\n",
        "        self.fc2 = nn.Linear(1200, 1200)\n",
        "        self.fc3 = nn.Linear(1200, 10)\n",
        "        self.dropout_input = 0.0\n",
        "        self.dropout_hidden = 0.0\n",
        "        self.is_training = True\n",
        "    \n",
        "    def forward(self, x):\n",
        "        x = x.view(-1, 28 * 28)\n",
        "        x = F.dropout(x, p=self.dropout_input, training=self.is_training)\n",
        "        x = F.dropout(F.relu(self.fc1(x)), p=self.dropout_hidden, training=self.is_training)\n",
        "        x = F.dropout(F.relu(self.fc2(x)), p=self.dropout_hidden, training=self.is_training)\n",
        "        x = self.fc3(x)\n",
        "        return x\n",
        "  \n",
        "\n",
        "class StudentNetwork(nn.Module):\n",
        "    def __init__(self):\n",
        "        super(StudentNetwork, self).__init__()\n",
        "        self.fc1 = nn.Linear(28 * 28, 800)\n",
        "        self.fc2 = nn.Linear(800, 800)\n",
        "        self.fc3 = nn.Linear(800, 10)\n",
        "        self.dropout_input = 0.0\n",
        "        self.dropout_hidden = 0.0\n",
        "        self.is_training = True\n",
        "    \n",
        "    def forward(self, x):\n",
        "        x = x.view(-1, 28 * 28)\n",
        "        x = F.dropout(x, p=self.dropout_input, training=self.is_training)\n",
        "        x = F.dropout(F.relu(self.fc1(x)), p=self.dropout_hidden, training=self.is_training)\n",
        "        x = F.dropout(F.relu(self.fc2(x)), p=self.dropout_hidden, training=self.is_training)\n",
        "        x = self.fc3(x)\n",
        "        return x\n",
        "\n",
        "class StudentNetwork_small(nn.Module):\n",
        "    def __init__(self):\n",
        "        super(StudentNetwork_small, self).__init__()\n",
        "        self.fc1 = nn.Linear(28 * 28, 300)\n",
        "        self.fc2 = nn.Linear(300, 300)\n",
        "        self.fc3 = nn.Linear(300, 10)\n",
        "        self.dropout_input = 0.0\n",
        "        self.dropout_hidden = 0.0\n",
        "        self.is_training = True\n",
        "    \n",
        "    def forward(self, x):\n",
        "        x = x.view(-1, 28 * 28)\n",
        "        x = F.dropout(x, p=self.dropout_input, training=self.is_training)\n",
        "        x = F.dropout(F.relu(self.fc1(x)), p=self.dropout_hidden, training=self.is_training)\n",
        "        x = F.dropout(F.relu(self.fc2(x)), p=self.dropout_hidden, training=self.is_training)\n",
        "        x = self.fc3(x)\n",
        "        return x\n",
        "\n",
        "\n",
        "class StudentNetwork_mini(nn.Module):\n",
        "    def __init__(self):\n",
        "        super(StudentNetwork_mini, self).__init__()\n",
        "        self.fc1 = nn.Linear(28 * 28, 30)\n",
        "        self.fc2 = nn.Linear(30, 30)\n",
        "        self.fc3 = nn.Linear(30, 10)\n",
        "        self.dropout_input = 0.0\n",
        "        self.dropout_hidden = 0.0\n",
        "        self.is_training = True\n",
        "    \n",
        "    def forward(self, x):\n",
        "        x = x.view(-1, 28 * 28)\n",
        "        x = F.dropout(x, p=self.dropout_input, training=self.is_training)\n",
        "        x = F.dropout(F.relu(self.fc1(x)), p=self.dropout_hidden, training=self.is_training)\n",
        "        x = F.dropout(F.relu(self.fc2(x)), p=self.dropout_hidden, training=self.is_training)\n",
        "        x = self.fc3(x)\n",
        "        return x\n",
        "\n"
      ],
      "execution_count": 0,
      "outputs": []
    },
    {
      "cell_type": "markdown",
      "metadata": {
        "colab_type": "text",
        "id": "PAnLmXf9MJuC"
      },
      "source": [
        "# ***Learning teacher network***\n",
        "\n",
        "---\n",
        "\n"
      ]
    },
    {
      "cell_type": "code",
      "metadata": {
        "id": "I70VkW_ty4Ip",
        "colab_type": "code",
        "colab": {}
      },
      "source": [
        "teacherNetwork = TeacherNetwork() \n",
        "if use_gpu:\n",
        "    teacherNetwork = teacherNetwork.cuda()\n",
        "criterion = nn.CrossEntropyLoss()\n",
        "optimizer = optim.SGD(teacherNetwork.parameters(), lr=1e-2, momentum=0.9, weight_decay=1e-5) \n",
        "scheduler = StepLR(optimizer, step_size=30, gamma=0.1) "
      ],
      "execution_count": 0,
      "outputs": []
    },
    {
      "cell_type": "markdown",
      "metadata": {
        "id": "Fo_ceGNiOgcI",
        "colab_type": "text"
      },
      "source": [
        "**Training Teacher model**"
      ]
    },
    {
      "cell_type": "code",
      "metadata": {
        "id": "vQu1qmCbzXzH",
        "colab_type": "code",
        "outputId": "b561aa52-9c0b-4725-eb7f-490949fb747a",
        "colab": {
          "base_uri": "https://localhost:8080/",
          "height": 1000
        }
      },
      "source": [
        "loss_values =[]\n",
        "\n",
        "for epoch in range(100):  # loop over the dataset multiple times\n",
        "\n",
        "    running_loss = 0.0\n",
        "    scheduler.step()\n",
        "    for i, data in enumerate(trainloader, 0):\n",
        "        # get the inputs\n",
        "        inputs, labels = data\n",
        "        if use_gpu:\n",
        "            inputs = inputs.cuda()\n",
        "            labels = labels.cuda()\n",
        "        # zero the parameter gradients\n",
        "        optimizer.zero_grad()\n",
        "\n",
        "        # forward + backward + optimize\n",
        "        outputs = teacherNetwork (inputs)\n",
        "        loss = criterion(outputs, labels)\n",
        "\n",
        "        #loss += lmbd * reg_loss\n",
        "        loss.backward()\n",
        "        optimizer.step()\n",
        "\n",
        "        # print statistics\n",
        "        running_loss += loss.item()\n",
        "        if i % 600 == 599:    \n",
        "            print('[%d, %5d] loss: %.3f' %(epoch + 1, i + 1, running_loss / 100))\n",
        "            loss_values.append(running_loss / len(trainset))\n",
        "            running_loss = 0.0\n",
        "plt.plot(loss_values)\n",
        "print('Finished Training')"
      ],
      "execution_count": 0,
      "outputs": [
        {
          "output_type": "stream",
          "text": [
            "/usr/local/lib/python3.6/dist-packages/torch/optim/lr_scheduler.py:122: UserWarning: Detected call of `lr_scheduler.step()` before `optimizer.step()`. In PyTorch 1.1.0 and later, you should call them in the opposite order: `optimizer.step()` before `lr_scheduler.step()`.  Failure to do this will result in PyTorch skipping the first value of the learning rate schedule. See more details at https://pytorch.org/docs/stable/optim.html#how-to-adjust-learning-rate\n",
            "  \"https://pytorch.org/docs/stable/optim.html#how-to-adjust-learning-rate\", UserWarning)\n"
          ],
          "name": "stderr"
        },
        {
          "output_type": "stream",
          "text": [
            "[1,   600] loss: 4.155\n",
            "[2,   600] loss: 1.568\n",
            "[3,   600] loss: 1.046\n",
            "[4,   600] loss: 0.792\n",
            "[5,   600] loss: 0.651\n",
            "[6,   600] loss: 0.551\n",
            "[7,   600] loss: 0.489\n",
            "[8,   600] loss: 0.442\n",
            "[9,   600] loss: 0.395\n",
            "[10,   600] loss: 0.360\n",
            "[11,   600] loss: 0.325\n",
            "[12,   600] loss: 0.305\n",
            "[13,   600] loss: 0.283\n",
            "[14,   600] loss: 0.265\n",
            "[15,   600] loss: 0.249\n",
            "[16,   600] loss: 0.225\n",
            "[17,   600] loss: 0.217\n",
            "[18,   600] loss: 0.205\n",
            "[19,   600] loss: 0.193\n",
            "[20,   600] loss: 0.174\n",
            "[21,   600] loss: 0.177\n",
            "[22,   600] loss: 0.165\n",
            "[23,   600] loss: 0.153\n",
            "[24,   600] loss: 0.153\n",
            "[25,   600] loss: 0.142\n",
            "[26,   600] loss: 0.138\n",
            "[27,   600] loss: 0.119\n",
            "[28,   600] loss: 0.122\n",
            "[29,   600] loss: 0.114\n",
            "[30,   600] loss: 0.090\n",
            "[31,   600] loss: 0.077\n",
            "[32,   600] loss: 0.077\n",
            "[33,   600] loss: 0.081\n",
            "[34,   600] loss: 0.074\n",
            "[35,   600] loss: 0.075\n",
            "[36,   600] loss: 0.077\n",
            "[37,   600] loss: 0.069\n",
            "[38,   600] loss: 0.069\n",
            "[39,   600] loss: 0.072\n",
            "[40,   600] loss: 0.070\n",
            "[41,   600] loss: 0.069\n",
            "[42,   600] loss: 0.069\n",
            "[43,   600] loss: 0.066\n",
            "[44,   600] loss: 0.066\n",
            "[45,   600] loss: 0.067\n",
            "[46,   600] loss: 0.068\n",
            "[47,   600] loss: 0.065\n",
            "[48,   600] loss: 0.066\n",
            "[49,   600] loss: 0.068\n",
            "[50,   600] loss: 0.064\n",
            "[51,   600] loss: 0.067\n",
            "[52,   600] loss: 0.064\n",
            "[53,   600] loss: 0.065\n",
            "[54,   600] loss: 0.061\n",
            "[55,   600] loss: 0.064\n",
            "[56,   600] loss: 0.064\n",
            "[57,   600] loss: 0.062\n",
            "[58,   600] loss: 0.060\n",
            "[59,   600] loss: 0.060\n",
            "[60,   600] loss: 0.057\n",
            "[61,   600] loss: 0.056\n",
            "[62,   600] loss: 0.060\n",
            "[63,   600] loss: 0.058\n",
            "[64,   600] loss: 0.059\n",
            "[65,   600] loss: 0.063\n",
            "[66,   600] loss: 0.059\n",
            "[67,   600] loss: 0.059\n",
            "[68,   600] loss: 0.058\n",
            "[69,   600] loss: 0.060\n",
            "[70,   600] loss: 0.059\n",
            "[71,   600] loss: 0.063\n",
            "[72,   600] loss: 0.058\n",
            "[73,   600] loss: 0.061\n",
            "[74,   600] loss: 0.059\n",
            "[75,   600] loss: 0.061\n",
            "[76,   600] loss: 0.059\n",
            "[77,   600] loss: 0.059\n",
            "[78,   600] loss: 0.056\n",
            "[79,   600] loss: 0.058\n",
            "[80,   600] loss: 0.056\n",
            "[81,   600] loss: 0.058\n",
            "[82,   600] loss: 0.057\n",
            "[83,   600] loss: 0.058\n",
            "[84,   600] loss: 0.059\n",
            "[85,   600] loss: 0.055\n",
            "[86,   600] loss: 0.059\n",
            "[87,   600] loss: 0.060\n",
            "[88,   600] loss: 0.057\n",
            "[89,   600] loss: 0.060\n",
            "[90,   600] loss: 0.057\n",
            "[91,   600] loss: 0.059\n",
            "[92,   600] loss: 0.058\n",
            "[93,   600] loss: 0.061\n",
            "[94,   600] loss: 0.057\n",
            "[95,   600] loss: 0.056\n",
            "[96,   600] loss: 0.059\n",
            "[97,   600] loss: 0.057\n",
            "[98,   600] loss: 0.059\n",
            "[99,   600] loss: 0.053\n",
            "[100,   600] loss: 0.055\n",
            "Finished Training\n"
          ],
          "name": "stdout"
        },
        {
          "output_type": "display_data",
          "data": {
            "image/png": "[encoded data removed]",
            "text/plain": [
              "<Figure size 432x288 with 1 Axes>"
            ]
          },
          "metadata": {
            "tags": [],
            "needs_background": "light"
          }
        }
      ]
    },
    {
      "cell_type": "markdown",
      "metadata": {
        "id": "Cbd4gHz2M_Mw",
        "colab_type": "text"
      },
      "source": [
        "**Evaluating Teacher model on test data**"
      ]
    },
    {
      "cell_type": "code",
      "metadata": {
        "id": "IFX--XUTDgAm",
        "colab_type": "code",
        "outputId": "3df640e1-ea8e-4f95-cccb-5d7d3536654b",
        "colab": {
          "base_uri": "https://localhost:8080/",
          "height": 52
        }
      },
      "source": [
        "correct = 0\n",
        "total = 0\n",
        "with torch.no_grad():\n",
        "    for data in testloader:\n",
        "        images, labels = data\n",
        "        outputs = teacherNetwork(images.cuda())\n",
        "        _, predicted = torch.max(outputs, 1)\n",
        "        total += labels.size(0)\n",
        "        correct += (predicted.cpu() == labels).sum().item()\n",
        "        if total % 1000 == 999:    # print every 1000 mini-batches\n",
        "            print('[%5d] completed' %(total + 1))\n",
        "            \n",
        "\n",
        "print('Accuracy of the network on the 10000 test images: %.2f %%' % (\n",
        "    100 * correct / total))\n",
        "wrong_pred = total-correct;\n",
        "print('wrong prediction of the network on the 10000 test images:', wrong_pred,'out of',total)"
      ],
      "execution_count": 0,
      "outputs": [
        {
          "output_type": "stream",
          "text": [
            "Accuracy of the network on the 10000 test images: 98.81 %\n",
            "wrong prediction of the network on the 10000 test images: 119 out of 10000\n"
          ],
          "name": "stdout"
        }
      ]
    },
    {
      "cell_type": "markdown",
      "metadata": {
        "colab_type": "text",
        "id": "I4jlGEk0NS3G"
      },
      "source": [
        "# ***Learning Student network***\n",
        "\n",
        "---\n",
        "1. Without knowledge distillation\n",
        "2. With knowledge distillation using soft target of trained teacher model\n",
        "\n"
      ]
    },
    {
      "cell_type": "markdown",
      "metadata": {
        "id": "HwxuDApmPH-s",
        "colab_type": "text"
      },
      "source": [
        "***1. Without knowledge distillation***\n",
        "\n",
        "\n",
        "---\n",
        "\n",
        "\n"
      ]
    },
    {
      "cell_type": "code",
      "metadata": {
        "id": "yhQqXIkMRYRh",
        "colab_type": "code",
        "colab": {}
      },
      "source": [
        "studentnetwork_wodist = StudentNetwork()    \n",
        "\n",
        "if use_gpu:\n",
        "    studentnetwork_wodist = studentnetwork_wodist.cuda()\n",
        "optimizer1 = optim.SGD(studentnetwork_wodist.parameters(), lr=1e-2, momentum=0.9) \n",
        "scheduler = StepLR(optimizer1, step_size=30, gamma=0.1) "
      ],
      "execution_count": 0,
      "outputs": []
    },
    {
      "cell_type": "markdown",
      "metadata": {
        "id": "H1qspWgrOOJU",
        "colab_type": "text"
      },
      "source": [
        "**Training student network without distillation**"
      ]
    },
    {
      "cell_type": "code",
      "metadata": {
        "id": "6nncqNI9d96e",
        "colab_type": "code",
        "outputId": "cf4ef284-bd65-4630-9c66-b972ff382604",
        "colab": {
          "base_uri": "https://localhost:8080/",
          "height": 1000
        }
      },
      "source": [
        "loss_values =[]\n",
        "for epoch in range(25):  # loop over the dataset multiple times\n",
        "\n",
        "    running_loss = 0.0\n",
        "    scheduler.step()\n",
        "    for i, data in enumerate(trainloader, 0):\n",
        "        # get the inputs\n",
        "        inputs, labels = data\n",
        "        if use_gpu:\n",
        "            inputs = inputs.cuda()\n",
        "            labels = labels.cuda()\n",
        "        # zero the parameter gradients\n",
        "        optimizer1.zero_grad()\n",
        "\n",
        "        # forward + backward + optimize\n",
        "        output_student = studentnetwork_wodist(inputs)\n",
        "        loss = criterion(output_student, labels)\n",
        "        loss.backward()\n",
        "        optimizer1.step()\n",
        "\n",
        "        # print statistics\n",
        "        running_loss += loss.item()\n",
        "        if i % 100 == 99:\n",
        "            print('[%d, %5d] loss: %.3f' %(epoch + 1, i + 1, running_loss / 100))\n",
        "            loss_values.append(running_loss / len(trainset))\n",
        "            running_loss = 0.0\n",
        "plt.plot(loss_values)\n",
        "print('Finished Training')"
      ],
      "execution_count": 0,
      "outputs": [
        {
          "output_type": "stream",
          "text": [
            "/usr/local/lib/python3.6/dist-packages/torch/optim/lr_scheduler.py:122: UserWarning: Detected call of `lr_scheduler.step()` before `optimizer.step()`. In PyTorch 1.1.0 and later, you should call them in the opposite order: `optimizer.step()` before `lr_scheduler.step()`.  Failure to do this will result in PyTorch skipping the first value of the learning rate schedule. See more details at https://pytorch.org/docs/stable/optim.html#how-to-adjust-learning-rate\n",
            "  \"https://pytorch.org/docs/stable/optim.html#how-to-adjust-learning-rate\", UserWarning)\n"
          ],
          "name": "stderr"
        },
        {
          "output_type": "stream",
          "text": [
            "[1,   100] loss: 1.880\n",
            "[1,   200] loss: 0.706\n",
            "[1,   300] loss: 0.524\n",
            "[1,   400] loss: 0.452\n",
            "[1,   500] loss: 0.411\n",
            "[1,   600] loss: 0.356\n",
            "[2,   100] loss: 0.322\n",
            "[2,   200] loss: 0.314\n",
            "[2,   300] loss: 0.277\n",
            "[2,   400] loss: 0.267\n",
            "[2,   500] loss: 0.233\n",
            "[2,   600] loss: 0.223\n",
            "[3,   100] loss: 0.199\n",
            "[3,   200] loss: 0.202\n",
            "[3,   300] loss: 0.177\n",
            "[3,   400] loss: 0.179\n",
            "[3,   500] loss: 0.166\n",
            "[3,   600] loss: 0.160\n",
            "[4,   100] loss: 0.145\n",
            "[4,   200] loss: 0.154\n",
            "[4,   300] loss: 0.145\n",
            "[4,   400] loss: 0.131\n",
            "[4,   500] loss: 0.125\n",
            "[4,   600] loss: 0.120\n",
            "[5,   100] loss: 0.117\n",
            "[5,   200] loss: 0.124\n",
            "[5,   300] loss: 0.111\n",
            "[5,   400] loss: 0.110\n",
            "[5,   500] loss: 0.105\n",
            "[5,   600] loss: 0.103\n",
            "[6,   100] loss: 0.099\n",
            "[6,   200] loss: 0.100\n",
            "[6,   300] loss: 0.097\n",
            "[6,   400] loss: 0.089\n",
            "[6,   500] loss: 0.088\n",
            "[6,   600] loss: 0.099\n",
            "[7,   100] loss: 0.086\n",
            "[7,   200] loss: 0.082\n",
            "[7,   300] loss: 0.084\n",
            "[7,   400] loss: 0.090\n",
            "[7,   500] loss: 0.084\n",
            "[7,   600] loss: 0.083\n",
            "[8,   100] loss: 0.082\n",
            "[8,   200] loss: 0.076\n",
            "[8,   300] loss: 0.080\n",
            "[8,   400] loss: 0.070\n",
            "[8,   500] loss: 0.073\n",
            "[8,   600] loss: 0.070\n",
            "[9,   100] loss: 0.075\n",
            "[9,   200] loss: 0.065\n",
            "[9,   300] loss: 0.075\n",
            "[9,   400] loss: 0.064\n",
            "[9,   500] loss: 0.065\n",
            "[9,   600] loss: 0.066\n",
            "[10,   100] loss: 0.055\n",
            "[10,   200] loss: 0.063\n",
            "[10,   300] loss: 0.064\n",
            "[10,   400] loss: 0.061\n",
            "[10,   500] loss: 0.064\n",
            "[10,   600] loss: 0.065\n",
            "[11,   100] loss: 0.057\n",
            "[11,   200] loss: 0.052\n",
            "[11,   300] loss: 0.060\n",
            "[11,   400] loss: 0.053\n",
            "[11,   500] loss: 0.058\n",
            "[11,   600] loss: 0.061\n",
            "[12,   100] loss: 0.057\n",
            "[12,   200] loss: 0.054\n",
            "[12,   300] loss: 0.057\n",
            "[12,   400] loss: 0.051\n",
            "[12,   500] loss: 0.049\n",
            "[12,   600] loss: 0.060\n",
            "[13,   100] loss: 0.050\n",
            "[13,   200] loss: 0.045\n",
            "[13,   300] loss: 0.056\n",
            "[13,   400] loss: 0.050\n",
            "[13,   500] loss: 0.044\n",
            "[13,   600] loss: 0.049\n",
            "[14,   100] loss: 0.043\n",
            "[14,   200] loss: 0.050\n",
            "[14,   300] loss: 0.046\n",
            "[14,   400] loss: 0.046\n",
            "[14,   500] loss: 0.050\n",
            "[14,   600] loss: 0.042\n",
            "[15,   100] loss: 0.044\n",
            "[15,   200] loss: 0.041\n",
            "[15,   300] loss: 0.040\n",
            "[15,   400] loss: 0.050\n",
            "[15,   500] loss: 0.049\n",
            "[15,   600] loss: 0.042\n",
            "[16,   100] loss: 0.039\n",
            "[16,   200] loss: 0.039\n",
            "[16,   300] loss: 0.044\n",
            "[16,   400] loss: 0.054\n",
            "[16,   500] loss: 0.040\n",
            "[16,   600] loss: 0.040\n",
            "[17,   100] loss: 0.043\n",
            "[17,   200] loss: 0.036\n",
            "[17,   300] loss: 0.039\n",
            "[17,   400] loss: 0.039\n",
            "[17,   500] loss: 0.039\n",
            "[17,   600] loss: 0.040\n",
            "[18,   100] loss: 0.029\n",
            "[18,   200] loss: 0.033\n",
            "[18,   300] loss: 0.043\n",
            "[18,   400] loss: 0.038\n",
            "[18,   500] loss: 0.039\n",
            "[18,   600] loss: 0.039\n",
            "[19,   100] loss: 0.033\n",
            "[19,   200] loss: 0.035\n",
            "[19,   300] loss: 0.035\n",
            "[19,   400] loss: 0.041\n",
            "[19,   500] loss: 0.032\n",
            "[19,   600] loss: 0.032\n",
            "[20,   100] loss: 0.029\n",
            "[20,   200] loss: 0.034\n",
            "[20,   300] loss: 0.031\n",
            "[20,   400] loss: 0.038\n",
            "[20,   500] loss: 0.030\n",
            "[20,   600] loss: 0.035\n",
            "[21,   100] loss: 0.029\n",
            "[21,   200] loss: 0.028\n",
            "[21,   300] loss: 0.033\n",
            "[21,   400] loss: 0.039\n",
            "[21,   500] loss: 0.029\n",
            "[21,   600] loss: 0.028\n",
            "[22,   100] loss: 0.026\n",
            "[22,   200] loss: 0.029\n",
            "[22,   300] loss: 0.030\n",
            "[22,   400] loss: 0.033\n",
            "[22,   500] loss: 0.030\n",
            "[22,   600] loss: 0.032\n",
            "[23,   100] loss: 0.033\n",
            "[23,   200] loss: 0.029\n",
            "[23,   300] loss: 0.029\n",
            "[23,   400] loss: 0.025\n",
            "[23,   500] loss: 0.028\n",
            "[23,   600] loss: 0.027\n",
            "[24,   100] loss: 0.026\n",
            "[24,   200] loss: 0.027\n",
            "[24,   300] loss: 0.024\n",
            "[24,   400] loss: 0.025\n",
            "[24,   500] loss: 0.029\n",
            "[24,   600] loss: 0.025\n",
            "[25,   100] loss: 0.026\n",
            "[25,   200] loss: 0.026\n",
            "[25,   300] loss: 0.026\n",
            "[25,   400] loss: 0.029\n",
            "[25,   500] loss: 0.026\n",
            "[25,   600] loss: 0.025\n",
            "Finished Training\n"
          ],
          "name": "stdout"
        },
        {
          "output_type": "display_data",
          "data": {
            "image/png": "[encoded data removed]",
            "text/plain": [
              "<Figure size 432x288 with 1 Axes>"
            ]
          },
          "metadata": {
            "tags": [],
            "needs_background": "light"
          }
        }
      ]
    },
    {
      "cell_type": "markdown",
      "metadata": {
        "id": "3UW5RSKEPUZv",
        "colab_type": "text"
      },
      "source": [
        "**Testing student network without distillation**"
      ]
    },
    {
      "cell_type": "code",
      "metadata": {
        "id": "uUGtL2z_eEvM",
        "colab_type": "code",
        "outputId": "d831d4f4-98ca-48d8-8384-b8f405189247",
        "colab": {
          "base_uri": "https://localhost:8080/",
          "height": 52
        }
      },
      "source": [
        "# result without knowledge distillation\n",
        "correct = 0\n",
        "total = 0\n",
        "with torch.no_grad():\n",
        "    for data in testloader:\n",
        "        images, labels = data\n",
        "        outputs = studentnetwork_wodist(images.cuda())\n",
        "        _, predicted = torch.max(outputs, 1)\n",
        "        total += labels.size(0)\n",
        "        correct += (predicted.cpu() == labels).sum().item()\n",
        "        if total % 1000 == 999:    # print every 1000 mini-batches\n",
        "            print('[%5d] completed' %(total + 1))\n",
        "            \n",
        "\n",
        "print('Accuracy of the network on the 10000 test images: %.2f %%' % (\n",
        "    100 * correct / total))\n",
        "wrong_pred = total-correct;\n",
        "print('wrong prediction of the network on the 10000 test images:', wrong_pred,'out of',total)"
      ],
      "execution_count": 0,
      "outputs": [
        {
          "output_type": "stream",
          "text": [
            "Accuracy of the network on the 10000 test images: 98.68 %\n",
            "wrong prediction of the network on the 10000 test images: 132 out of 10000\n"
          ],
          "name": "stdout"
        }
      ]
    },
    {
      "cell_type": "markdown",
      "metadata": {
        "id": "UQurinViP265",
        "colab_type": "text"
      },
      "source": [
        "***2. With knowledge distillation***\n",
        "\n",
        "\n",
        "\n",
        "---\n",
        "\n",
        "\n"
      ]
    },
    {
      "cell_type": "code",
      "metadata": {
        "id": "VF2f5yhZSEv7",
        "colab_type": "code",
        "colab": {}
      },
      "source": [
        "studentnetwork_distil = StudentNetwork()  \n",
        "\n",
        "if use_gpu:\n",
        "    studentnetwork_distil = studentnetwork_distil.cuda()\n",
        "\n",
        "optimizer2 = optim.SGD(studentnetwork_distil .parameters(),  lr=1e-2, momentum=0.9)\n",
        "T=20 #Temperature is initially set as 20\n",
        "l = 0.3;\n",
        "scheduler = StepLR(optimizer2, step_size=30, gamma=0.1) "
      ],
      "execution_count": 0,
      "outputs": []
    },
    {
      "cell_type": "markdown",
      "metadata": {
        "colab_type": "text",
        "id": "SZyHNnPsO-G0"
      },
      "source": [
        "**Training student network with distillation**"
      ]
    },
    {
      "cell_type": "code",
      "metadata": {
        "id": "_pAt7gSSy5mo",
        "colab_type": "code",
        "outputId": "0505faee-6a1a-48fc-be75-5449edaa0e27",
        "colab": {
          "base_uri": "https://localhost:8080/",
          "height": 1000
        }
      },
      "source": [
        "loss_values =[]\n",
        "for epoch in range(25):  # loop over the dataset multiple times\n",
        "\n",
        "    running_loss = 0.0\n",
        "    scheduler.step()\n",
        "    for i, data in enumerate(trainloader, 0):\n",
        "        # get the inputs\n",
        "        inputs, labels = data\n",
        "        if use_gpu:\n",
        "            inputs = inputs.cuda()\n",
        "            labels = labels.cuda()\n",
        "        # zero the parameter gradients\n",
        "        optimizer2.zero_grad()\n",
        "\n",
        "        # forward + backward + optimize\n",
        "        output_teacher = teacherNetwork(inputs)\n",
        "        _, predicted_teacher = torch.max(output_teacher, 1)\n",
        "        output_student = studentnetwork_distil  (inputs)\n",
        "        _, predicted_student = torch.max(output_student, 1)\n",
        "        \n",
        "        #To implement the softmax principle of knowledge distiallation of teacher model into the student.\n",
        "        loss1 = F.kl_div(torch.nn.functional.log_softmax(output_student/T,dim=1),torch.nn.functional.softmax(output_teacher/T,dim=1), reduction='batchmean')\n",
        "        loss2 = criterion(output_student,labels)\n",
        "        loss = ((1-l)*loss1*(T**2)) + (l * loss2)\n",
        "        loss.backward()\n",
        "        optimizer2.step()\n",
        "\n",
        "        # print statistics\n",
        "        running_loss += loss.item()\n",
        "        if i % 100 == 99:\n",
        "            print('[%d, %5d] loss: %.3f' %\n",
        "                  (epoch + 1, i + 1, running_loss / 100))\n",
        "            loss_values.append(running_loss / len(trainset))\n",
        "            running_loss = 0.0\n",
        "            \n",
        "plt.plot(loss_values)\n",
        "print('Finished Training')"
      ],
      "execution_count": 0,
      "outputs": [
        {
          "output_type": "stream",
          "text": [
            "/usr/local/lib/python3.6/dist-packages/torch/optim/lr_scheduler.py:122: UserWarning: Detected call of `lr_scheduler.step()` before `optimizer.step()`. In PyTorch 1.1.0 and later, you should call them in the opposite order: `optimizer.step()` before `lr_scheduler.step()`.  Failure to do this will result in PyTorch skipping the first value of the learning rate schedule. See more details at https://pytorch.org/docs/stable/optim.html#how-to-adjust-learning-rate\n",
            "  \"https://pytorch.org/docs/stable/optim.html#how-to-adjust-learning-rate\", UserWarning)\n"
          ],
          "name": "stderr"
        },
        {
          "output_type": "stream",
          "text": [
            "[1,   100] loss: 15.484\n",
            "[1,   200] loss: 3.916\n",
            "[1,   300] loss: 1.893\n",
            "[1,   400] loss: 1.120\n",
            "[1,   500] loss: 0.782\n",
            "[1,   600] loss: 0.600\n",
            "[2,   100] loss: 0.457\n",
            "[2,   200] loss: 0.384\n",
            "[2,   300] loss: 0.326\n",
            "[2,   400] loss: 0.300\n",
            "[2,   500] loss: 0.263\n",
            "[2,   600] loss: 0.235\n",
            "[3,   100] loss: 0.208\n",
            "[3,   200] loss: 0.199\n",
            "[3,   300] loss: 0.187\n",
            "[3,   400] loss: 0.182\n",
            "[3,   500] loss: 0.170\n",
            "[3,   600] loss: 0.161\n",
            "[4,   100] loss: 0.152\n",
            "[4,   200] loss: 0.150\n",
            "[4,   300] loss: 0.141\n",
            "[4,   400] loss: 0.140\n",
            "[4,   500] loss: 0.138\n",
            "[4,   600] loss: 0.131\n",
            "[5,   100] loss: 0.126\n",
            "[5,   200] loss: 0.120\n",
            "[5,   300] loss: 0.120\n",
            "[5,   400] loss: 0.123\n",
            "[5,   500] loss: 0.118\n",
            "[5,   600] loss: 0.113\n",
            "[6,   100] loss: 0.109\n",
            "[6,   200] loss: 0.110\n",
            "[6,   300] loss: 0.105\n",
            "[6,   400] loss: 0.102\n",
            "[6,   500] loss: 0.108\n",
            "[6,   600] loss: 0.104\n",
            "[7,   100] loss: 0.095\n",
            "[7,   200] loss: 0.094\n",
            "[7,   300] loss: 0.099\n",
            "[7,   400] loss: 0.096\n",
            "[7,   500] loss: 0.094\n",
            "[7,   600] loss: 0.095\n",
            "[8,   100] loss: 0.091\n",
            "[8,   200] loss: 0.089\n",
            "[8,   300] loss: 0.089\n",
            "[8,   400] loss: 0.087\n",
            "[8,   500] loss: 0.088\n",
            "[8,   600] loss: 0.088\n",
            "[9,   100] loss: 0.082\n",
            "[9,   200] loss: 0.084\n",
            "[9,   300] loss: 0.080\n",
            "[9,   400] loss: 0.083\n",
            "[9,   500] loss: 0.083\n",
            "[9,   600] loss: 0.078\n",
            "[10,   100] loss: 0.077\n",
            "[10,   200] loss: 0.079\n",
            "[10,   300] loss: 0.079\n",
            "[10,   400] loss: 0.077\n",
            "[10,   500] loss: 0.079\n",
            "[10,   600] loss: 0.078\n",
            "[11,   100] loss: 0.076\n",
            "[11,   200] loss: 0.076\n",
            "[11,   300] loss: 0.073\n",
            "[11,   400] loss: 0.075\n",
            "[11,   500] loss: 0.071\n",
            "[11,   600] loss: 0.073\n",
            "[12,   100] loss: 0.072\n",
            "[12,   200] loss: 0.072\n",
            "[12,   300] loss: 0.071\n",
            "[12,   400] loss: 0.070\n",
            "[12,   500] loss: 0.069\n",
            "[12,   600] loss: 0.069\n",
            "[13,   100] loss: 0.067\n",
            "[13,   200] loss: 0.067\n",
            "[13,   300] loss: 0.068\n",
            "[13,   400] loss: 0.067\n",
            "[13,   500] loss: 0.067\n",
            "[13,   600] loss: 0.069\n",
            "[14,   100] loss: 0.067\n",
            "[14,   200] loss: 0.066\n",
            "[14,   300] loss: 0.066\n",
            "[14,   400] loss: 0.065\n",
            "[14,   500] loss: 0.064\n",
            "[14,   600] loss: 0.064\n",
            "[15,   100] loss: 0.064\n",
            "[15,   200] loss: 0.063\n",
            "[15,   300] loss: 0.062\n",
            "[15,   400] loss: 0.062\n",
            "[15,   500] loss: 0.062\n",
            "[15,   600] loss: 0.062\n",
            "[16,   100] loss: 0.059\n",
            "[16,   200] loss: 0.061\n",
            "[16,   300] loss: 0.060\n",
            "[16,   400] loss: 0.061\n",
            "[16,   500] loss: 0.062\n",
            "[16,   600] loss: 0.061\n",
            "[17,   100] loss: 0.057\n",
            "[17,   200] loss: 0.061\n",
            "[17,   300] loss: 0.059\n",
            "[17,   400] loss: 0.058\n",
            "[17,   500] loss: 0.057\n",
            "[17,   600] loss: 0.057\n",
            "[18,   100] loss: 0.057\n",
            "[18,   200] loss: 0.057\n",
            "[18,   300] loss: 0.056\n",
            "[18,   400] loss: 0.057\n",
            "[18,   500] loss: 0.060\n",
            "[18,   600] loss: 0.056\n",
            "[19,   100] loss: 0.058\n",
            "[19,   200] loss: 0.056\n",
            "[19,   300] loss: 0.057\n",
            "[19,   400] loss: 0.054\n",
            "[19,   500] loss: 0.056\n",
            "[19,   600] loss: 0.057\n",
            "[20,   100] loss: 0.053\n",
            "[20,   200] loss: 0.054\n",
            "[20,   300] loss: 0.055\n",
            "[20,   400] loss: 0.054\n",
            "[20,   500] loss: 0.055\n",
            "[20,   600] loss: 0.055\n",
            "[21,   100] loss: 0.052\n",
            "[21,   200] loss: 0.053\n",
            "[21,   300] loss: 0.054\n",
            "[21,   400] loss: 0.053\n",
            "[21,   500] loss: 0.053\n",
            "[21,   600] loss: 0.053\n",
            "[22,   100] loss: 0.051\n",
            "[22,   200] loss: 0.053\n",
            "[22,   300] loss: 0.051\n",
            "[22,   400] loss: 0.052\n",
            "[22,   500] loss: 0.053\n",
            "[22,   600] loss: 0.053\n",
            "[23,   100] loss: 0.050\n",
            "[23,   200] loss: 0.051\n",
            "[23,   300] loss: 0.050\n",
            "[23,   400] loss: 0.050\n",
            "[23,   500] loss: 0.051\n",
            "[23,   600] loss: 0.051\n",
            "[24,   100] loss: 0.050\n",
            "[24,   200] loss: 0.050\n",
            "[24,   300] loss: 0.049\n",
            "[24,   400] loss: 0.050\n",
            "[24,   500] loss: 0.049\n",
            "[24,   600] loss: 0.050\n",
            "[25,   100] loss: 0.048\n",
            "[25,   200] loss: 0.048\n",
            "[25,   300] loss: 0.048\n",
            "[25,   400] loss: 0.048\n",
            "[25,   500] loss: 0.048\n",
            "[25,   600] loss: 0.049\n",
            "Finished Training\n"
          ],
          "name": "stdout"
        },
        {
          "output_type": "display_data",
          "data": {
            "image/png": "[encoded data removed]",
            "text/plain": [
              "<Figure size 432x288 with 1 Axes>"
            ]
          },
          "metadata": {
            "tags": [],
            "needs_background": "light"
          }
        }
      ]
    },
    {
      "cell_type": "markdown",
      "metadata": {
        "id": "a4c38mw9QzXp",
        "colab_type": "text"
      },
      "source": [
        "**Testing student network with distillation**\n",
        "\n",
        "\n"
      ]
    },
    {
      "cell_type": "code",
      "metadata": {
        "id": "TCjqSHL_QkdL",
        "colab_type": "code",
        "outputId": "dd34dc7a-c6b9-490f-e933-25e8964c8b32",
        "colab": {
          "base_uri": "https://localhost:8080/",
          "height": 52
        }
      },
      "source": [
        "# Implementation of soft max and hard target checks\n",
        "correct = 0\n",
        "total = 0\n",
        "with torch.no_grad():\n",
        "    for data in testloader:\n",
        "        images, labels = data\n",
        "        outputs = studentnetwork_distil (images.cuda())\n",
        "        _, predicted = torch.max(outputs, 1)\n",
        "        total += labels.size(0)\n",
        "        correct += (predicted.cpu() == labels).sum().item()\n",
        "        if total % 1000 == 999:    # print every 1000 mini-batches\n",
        "            print('[%5d] completed' %(total + 1))\n",
        "            \n",
        "\n",
        "print('Accuracy of the network on the 10000 test images: %.2f %%' % (\n",
        "    100 * correct / total))\n",
        "wrong_pred = total-correct;\n",
        "print('wrong prediction of the network on the 10000 test images:', wrong_pred,'out of',total)"
      ],
      "execution_count": 0,
      "outputs": [
        {
          "output_type": "stream",
          "text": [
            "Accuracy of the network on the 10000 test images: 98.75 %\n",
            "wrong prediction of the network on the 10000 test images: 125 out of 10000\n"
          ],
          "name": "stdout"
        }
      ]
    },
    {
      "cell_type": "markdown",
      "metadata": {
        "colab_type": "text",
        "id": "nhC6w9LyPSLd"
      },
      "source": [
        "# ***Ex:1 Training Student network omitting class 3***\n",
        "\n",
        "---\n",
        "\n",
        "\n"
      ]
    },
    {
      "cell_type": "markdown",
      "metadata": {
        "id": "9bz-j0cJP7B4",
        "colab_type": "text"
      },
      "source": [
        "**Modifying the dataset for removing dataset that belongs to 3**"
      ]
    },
    {
      "cell_type": "code",
      "metadata": {
        "id": "XcPh4oBFFM4L",
        "colab_type": "code",
        "colab": {}
      },
      "source": [
        "modified_batch = []\n",
        "for item in trainset:\n",
        "    image, label = item\n",
        "    if label != 3:\n",
        "        modified_batch.append(item)\n",
        "\n",
        "trainloader_trans = torch.utils.data.DataLoader(modified_batch, batch_size=100, shuffle=True, num_workers=2)"
      ],
      "execution_count": 0,
      "outputs": []
    },
    {
      "cell_type": "markdown",
      "metadata": {
        "id": "KhUScmdBQRI9",
        "colab_type": "text"
      },
      "source": [
        "**Training student network with distillation on modified transfer set**"
      ]
    },
    {
      "cell_type": "code",
      "metadata": {
        "id": "FBVMgZuU2kDj",
        "colab_type": "code",
        "colab": {}
      },
      "source": [
        "studentnetwork_transfer = StudentNetwork()  \n",
        "\n",
        "if use_gpu:\n",
        "    studentnetwork_transfer = studentnetwork_transfer.cuda()\n",
        "\n",
        "optimizer3 = optim.SGD(studentnetwork_transfer.parameters(),  lr=1e-2, momentum=0.9)\n",
        "T=20 #Temperature is initially set as 20\n",
        "l = 0.3;\n",
        "scheduler = StepLR(optimizer3, step_size=30, gamma=0.1) "
      ],
      "execution_count": 0,
      "outputs": []
    },
    {
      "cell_type": "code",
      "metadata": {
        "id": "Uf2j6Xe62yvL",
        "colab_type": "code",
        "outputId": "f49e6c22-7b92-4aa3-cca1-a1dd3949119c",
        "colab": {
          "base_uri": "https://localhost:8080/",
          "height": 782
        }
      },
      "source": [
        "loss_values =[]\n",
        "\n",
        "for epoch in range(25):  # loop over the dataset multiple times\n",
        "\n",
        "    running_loss = 0.0\n",
        "    scheduler.step()\n",
        "    for i, data in enumerate(trainloader_trans, 0):\n",
        "        # get the inputs\n",
        "        inputs, labels = data\n",
        "        if use_gpu:\n",
        "            inputs = inputs.cuda()\n",
        "            labels = labels.cuda()\n",
        "        # zero the parameter gradients\n",
        "        optimizer3.zero_grad()\n",
        "\n",
        "        # forward + backward + optimize\n",
        "        output_teacher = teacherNetwork(inputs)\n",
        "        _, predicted_teacher = torch.max(output_teacher, 1)\n",
        "        output_student = studentnetwork_transfer(inputs)\n",
        "        _, predicted_student = torch.max(output_student, 1)\n",
        "        \n",
        "        #To implement the softmax principle of knowledge distiallation of teacher model into the student.\n",
        "        loss1 = F.kl_div(torch.nn.functional.log_softmax(output_student/T,dim=1),torch.nn.functional.softmax(output_teacher/T,dim=1), reduction='batchmean')\n",
        "        loss2 = criterion(output_student,labels)\n",
        "        loss = ((1-l)*loss1*(T**2)) + (l * loss2)\n",
        "        loss.backward()\n",
        "        optimizer3.step()\n",
        "\n",
        "        # print statistics\n",
        "        running_loss += loss.item()\n",
        "        if i % 300 == 299:    \n",
        "            print('[%d, %5d] loss: %.3f' %(epoch + 1, i + 1, running_loss / 100))\n",
        "            loss_values.append(running_loss / len(trainset))\n",
        "            running_loss = 0.0\n",
        "\n",
        "    \n",
        "plt.plot(loss_values)\n",
        "print('Finished Training')\n"
      ],
      "execution_count": 0,
      "outputs": [
        {
          "output_type": "stream",
          "text": [
            "/usr/local/lib/python3.6/dist-packages/torch/optim/lr_scheduler.py:122: UserWarning: Detected call of `lr_scheduler.step()` before `optimizer.step()`. In PyTorch 1.1.0 and later, you should call them in the opposite order: `optimizer.step()` before `lr_scheduler.step()`.  Failure to do this will result in PyTorch skipping the first value of the learning rate schedule. See more details at https://pytorch.org/docs/stable/optim.html#how-to-adjust-learning-rate\n",
            "  \"https://pytorch.org/docs/stable/optim.html#how-to-adjust-learning-rate\", UserWarning)\n"
          ],
          "name": "stderr"
        },
        {
          "output_type": "stream",
          "text": [
            "[1,   300] loss: 19.778\n",
            "[2,   300] loss: 1.399\n",
            "[3,   300] loss: 0.658\n",
            "[4,   300] loss: 0.454\n",
            "[5,   300] loss: 0.353\n",
            "[6,   300] loss: 0.295\n",
            "[7,   300] loss: 0.259\n",
            "[8,   300] loss: 0.230\n",
            "[9,   300] loss: 0.211\n",
            "[10,   300] loss: 0.196\n",
            "[11,   300] loss: 0.180\n",
            "[12,   300] loss: 0.171\n",
            "[13,   300] loss: 0.162\n",
            "[14,   300] loss: 0.153\n",
            "[15,   300] loss: 0.147\n",
            "[16,   300] loss: 0.141\n",
            "[17,   300] loss: 0.134\n",
            "[18,   300] loss: 0.129\n",
            "[19,   300] loss: 0.126\n",
            "[20,   300] loss: 0.122\n",
            "[21,   300] loss: 0.118\n",
            "[22,   300] loss: 0.114\n",
            "[23,   300] loss: 0.112\n",
            "[24,   300] loss: 0.107\n",
            "[25,   300] loss: 0.106\n",
            "Finished Training\n"
          ],
          "name": "stdout"
        },
        {
          "output_type": "display_data",
          "data": {
            "image/png": "[encoded data removed]",
            "text/plain": [
              "<Figure size 432x288 with 1 Axes>"
            ]
          },
          "metadata": {
            "tags": [],
            "needs_background": "light"
          }
        }
      ]
    },
    {
      "cell_type": "code",
      "metadata": {
        "id": "owh_rAEsjmR8",
        "colab_type": "code",
        "colab": {}
      },
      "source": [
        "#To change the bias of the student network in the output layer\n",
        "\n",
        "state_dict = studentnetwork_transfer.state_dict()\n",
        "\n",
        "for name, param in state_dict.items():\n",
        "    if  \"fc3.bias\" in name:\n",
        "      transformed_param = torch.ones(10)*3.5\n",
        "      state_dict[name].copy_(transformed_param)"
      ],
      "execution_count": 0,
      "outputs": []
    },
    {
      "cell_type": "markdown",
      "metadata": {
        "id": "FpDzBu0VQbLe",
        "colab_type": "text"
      },
      "source": [
        "**Testing student network trained on modified transfer set**"
      ]
    },
    {
      "cell_type": "code",
      "metadata": {
        "id": "AAj8UijsH9Wa",
        "colab_type": "code",
        "outputId": "b32f0912-8caa-417f-f52d-f8d09091f861",
        "colab": {
          "base_uri": "https://localhost:8080/",
          "height": 70
        }
      },
      "source": [
        "correct = 0\n",
        "total = 0\n",
        "incorrect_3 = 0\n",
        "with torch.no_grad():\n",
        "    for data in testloader:\n",
        "        images, labels = data\n",
        "        outputs = studentnetwork_transfer(images.cuda())\n",
        "        _, predicted = torch.max(outputs, 1)\n",
        "        total += labels.size(0)\n",
        "        correct += (predicted.cpu() == labels).sum().item()\n",
        "\n",
        "        idx = (predicted.cpu() != labels)\n",
        "        k = labels[idx]\n",
        "\n",
        "        for i in k :\n",
        "          if (i==3):\n",
        "            incorrect_3 += 1\n",
        "\n",
        "        if total % 1000 == 999:    # print every 1000 mini-batches\n",
        "            print('[%5d] completed' %(total + 1))\n",
        "            \n",
        "\n",
        "print('Accuracy of the network on the 10000 test images: %2f %%' % (\n",
        "    100 * correct / total))\n",
        "wrong_pred = total-correct;\n",
        "print('wrong prediction of the network on the 10000 test images:', wrong_pred,'out of',total)\n",
        "print('wrong prediction of 3:', incorrect_3)"
      ],
      "execution_count": 0,
      "outputs": [
        {
          "output_type": "stream",
          "text": [
            "Accuracy of the network on the 10000 test images: 98.770000 %\n",
            "wrong prediction of the network on the 10000 test images: 123 out of 10000\n",
            "wrong prediction of 3: 20\n"
          ],
          "name": "stdout"
        }
      ]
    },
    {
      "cell_type": "markdown",
      "metadata": {
        "id": "jYYp-3723SBt",
        "colab_type": "text"
      },
      "source": [
        "**Test error on each labels validated on the model trained with modified transfer set**"
      ]
    },
    {
      "cell_type": "markdown",
      "metadata": {
        "id": "S8A-plcY28tQ",
        "colab_type": "text"
      },
      "source": [
        "**Checking the impact of student network size with reduced size for temperature 8** \n",
        "\n",
        "---\n",
        "\n",
        "\n",
        "\n",
        "Defining the student network with small architecture"
      ]
    },
    {
      "cell_type": "markdown",
      "metadata": {
        "colab_type": "text",
        "id": "CcpdKuI1SCBk"
      },
      "source": [
        "# ***Ex:2 Impact of smaller student network and temperature***\n",
        "\n",
        "---\n",
        "\n",
        "1. Student network with 300 units with temperature 8\n",
        "2. Student network with 30 units with temperature 20 and 2.5\n"
      ]
    },
    {
      "cell_type": "markdown",
      "metadata": {
        "id": "MRvnRFNpS147",
        "colab_type": "text"
      },
      "source": [
        "**1. Student network with 300 units with temperature 8**\n",
        "\n",
        "---\n",
        "\n"
      ]
    },
    {
      "cell_type": "code",
      "metadata": {
        "id": "P6Lb_rba_evv",
        "colab_type": "code",
        "outputId": "1b626b2d-5139-49cd-805d-33243572df6a",
        "colab": {
          "base_uri": "https://localhost:8080/",
          "height": 1000
        }
      },
      "source": [
        "student_small_T8 = StudentNetwork_small()  \n",
        "if use_gpu:\n",
        "    student_small_T8 = student_small_T8.cuda()\n",
        "\n",
        "optimizer_T8 = optim.SGD(student_small_T8.parameters(),  lr=1e-2, momentum=0.9)\n",
        "scheduler = StepLR(optimizer_T8, step_size=30, gamma=0.1)\n",
        "T = 8;\n",
        "l = 0.3;\n",
        "\n",
        "## Training the data for different T\n",
        "loss_values =[]\n",
        "for epoch in range(25):  # loop over the dataset multiple times\n",
        "\n",
        "    running_loss = 0.0\n",
        "    scheduler.step()\n",
        "    for i, data in enumerate(trainloader, 0):\n",
        "        # get the inputs\n",
        "        inputs, labels = data\n",
        "        if use_gpu:\n",
        "            inputs = inputs.cuda()\n",
        "            labels = labels.cuda()\n",
        "        # zero the parameter gradients\n",
        "        optimizer_T8 .zero_grad()\n",
        "\n",
        "        # forward + backward + optimize\n",
        "        output_teacher = teacherNetwork(inputs)\n",
        "        _, predicted_teacher = torch.max(output_teacher, 1)\n",
        "        output_student = student_small_T8(inputs)\n",
        "        _, predicted_student = torch.max(output_student, 1)\n",
        "        \n",
        "        #To implement the softmax principle of knowledge distiallation of teacher model into the student.\n",
        "        loss1 = F.kl_div(torch.nn.functional.log_softmax(output_student/T,dim=1),torch.nn.functional.softmax(output_teacher/T,dim=1), reduction='batchmean')\n",
        "        loss2 = criterion(output_student,labels)\n",
        "        loss = ((1-l)*loss1*(T**2)) + (l * loss2)\n",
        "        loss.backward()\n",
        "        optimizer_T8 .step()\n",
        "\n",
        "        # print statistics\n",
        "        running_loss += loss.item()\n",
        "        if i % 100 == 99:\n",
        "            print('[%d, %5d] loss: %.3f' % (epoch + 1, i + 1, running_loss / 100))\n",
        "            loss_values.append(running_loss / len(trainset))\n",
        "            running_loss = 0.0\n",
        "    \n",
        "plt.plot(loss_values)\n",
        "print('Finished Training')\n",
        "\n",
        "## Checking test data\n",
        "correct = 0\n",
        "total = 0\n",
        "with torch.no_grad():\n",
        "    for data in testloader:\n",
        "        images, labels = data\n",
        "        outputs = student_small_T8(images.cuda())\n",
        "        _, predicted = torch.max(outputs, 1)\n",
        "        total += labels.size(0)\n",
        "        correct += (predicted.cpu() == labels).sum().item()\n",
        "            \n",
        "print('Accuracy of the network on the 10000 test images: %d %%' % (\n",
        "    100 * correct / total))\n",
        "wrong_pred= total-correct;\n",
        "print('wrong prediction of the network on the 10000 test images:', wrong_pred,'out of',total)"
      ],
      "execution_count": 0,
      "outputs": [
        {
          "output_type": "stream",
          "text": [
            "/usr/local/lib/python3.6/dist-packages/torch/optim/lr_scheduler.py:122: UserWarning: Detected call of `lr_scheduler.step()` before `optimizer.step()`. In PyTorch 1.1.0 and later, you should call them in the opposite order: `optimizer.step()` before `lr_scheduler.step()`.  Failure to do this will result in PyTorch skipping the first value of the learning rate schedule. See more details at https://pytorch.org/docs/stable/optim.html#how-to-adjust-learning-rate\n",
            "  \"https://pytorch.org/docs/stable/optim.html#how-to-adjust-learning-rate\", UserWarning)\n"
          ],
          "name": "stderr"
        },
        {
          "output_type": "stream",
          "text": [
            "[1,   100] loss: 16.507\n",
            "[1,   200] loss: 4.072\n",
            "[1,   300] loss: 2.215\n",
            "[1,   400] loss: 1.402\n",
            "[1,   500] loss: 0.983\n",
            "[1,   600] loss: 0.755\n",
            "[2,   100] loss: 0.586\n",
            "[2,   200] loss: 0.525\n",
            "[2,   300] loss: 0.450\n",
            "[2,   400] loss: 0.397\n",
            "[2,   500] loss: 0.362\n",
            "[2,   600] loss: 0.340\n",
            "[3,   100] loss: 0.283\n",
            "[3,   200] loss: 0.281\n",
            "[3,   300] loss: 0.257\n",
            "[3,   400] loss: 0.247\n",
            "[3,   500] loss: 0.242\n",
            "[3,   600] loss: 0.221\n",
            "[4,   100] loss: 0.215\n",
            "[4,   200] loss: 0.204\n",
            "[4,   300] loss: 0.196\n",
            "[4,   400] loss: 0.192\n",
            "[4,   500] loss: 0.181\n",
            "[4,   600] loss: 0.182\n",
            "[5,   100] loss: 0.183\n",
            "[5,   200] loss: 0.175\n",
            "[5,   300] loss: 0.170\n",
            "[5,   400] loss: 0.167\n",
            "[5,   500] loss: 0.168\n",
            "[5,   600] loss: 0.158\n",
            "[6,   100] loss: 0.146\n",
            "[6,   200] loss: 0.147\n",
            "[6,   300] loss: 0.146\n",
            "[6,   400] loss: 0.146\n",
            "[6,   500] loss: 0.144\n",
            "[6,   600] loss: 0.139\n",
            "[7,   100] loss: 0.135\n",
            "[7,   200] loss: 0.137\n",
            "[7,   300] loss: 0.133\n",
            "[7,   400] loss: 0.135\n",
            "[7,   500] loss: 0.132\n",
            "[7,   600] loss: 0.125\n",
            "[8,   100] loss: 0.119\n",
            "[8,   200] loss: 0.123\n",
            "[8,   300] loss: 0.127\n",
            "[8,   400] loss: 0.121\n",
            "[8,   500] loss: 0.119\n",
            "[8,   600] loss: 0.121\n",
            "[9,   100] loss: 0.117\n",
            "[9,   200] loss: 0.116\n",
            "[9,   300] loss: 0.117\n",
            "[9,   400] loss: 0.115\n",
            "[9,   500] loss: 0.115\n",
            "[9,   600] loss: 0.113\n",
            "[10,   100] loss: 0.108\n",
            "[10,   200] loss: 0.109\n",
            "[10,   300] loss: 0.109\n",
            "[10,   400] loss: 0.108\n",
            "[10,   500] loss: 0.106\n",
            "[10,   600] loss: 0.108\n",
            "[11,   100] loss: 0.104\n",
            "[11,   200] loss: 0.103\n",
            "[11,   300] loss: 0.106\n",
            "[11,   400] loss: 0.103\n",
            "[11,   500] loss: 0.102\n",
            "[11,   600] loss: 0.102\n",
            "[12,   100] loss: 0.103\n",
            "[12,   200] loss: 0.098\n",
            "[12,   300] loss: 0.098\n",
            "[12,   400] loss: 0.099\n",
            "[12,   500] loss: 0.099\n",
            "[12,   600] loss: 0.098\n",
            "[13,   100] loss: 0.095\n",
            "[13,   200] loss: 0.093\n",
            "[13,   300] loss: 0.095\n",
            "[13,   400] loss: 0.096\n",
            "[13,   500] loss: 0.096\n",
            "[13,   600] loss: 0.097\n",
            "[14,   100] loss: 0.093\n",
            "[14,   200] loss: 0.092\n",
            "[14,   300] loss: 0.092\n",
            "[14,   400] loss: 0.091\n",
            "[14,   500] loss: 0.089\n",
            "[14,   600] loss: 0.088\n",
            "[15,   100] loss: 0.088\n",
            "[15,   200] loss: 0.086\n",
            "[15,   300] loss: 0.087\n",
            "[15,   400] loss: 0.088\n",
            "[15,   500] loss: 0.090\n",
            "[15,   600] loss: 0.089\n",
            "[16,   100] loss: 0.084\n",
            "[16,   200] loss: 0.087\n",
            "[16,   300] loss: 0.083\n",
            "[16,   400] loss: 0.084\n",
            "[16,   500] loss: 0.090\n",
            "[16,   600] loss: 0.084\n",
            "[17,   100] loss: 0.083\n",
            "[17,   200] loss: 0.081\n",
            "[17,   300] loss: 0.083\n",
            "[17,   400] loss: 0.085\n",
            "[17,   500] loss: 0.083\n",
            "[17,   600] loss: 0.082\n",
            "[18,   100] loss: 0.082\n",
            "[18,   200] loss: 0.081\n",
            "[18,   300] loss: 0.081\n",
            "[18,   400] loss: 0.082\n",
            "[18,   500] loss: 0.080\n",
            "[18,   600] loss: 0.082\n",
            "[19,   100] loss: 0.081\n",
            "[19,   200] loss: 0.078\n",
            "[19,   300] loss: 0.079\n",
            "[19,   400] loss: 0.082\n",
            "[19,   500] loss: 0.080\n",
            "[19,   600] loss: 0.080\n",
            "[20,   100] loss: 0.078\n",
            "[20,   200] loss: 0.077\n",
            "[20,   300] loss: 0.079\n",
            "[20,   400] loss: 0.077\n",
            "[20,   500] loss: 0.077\n",
            "[20,   600] loss: 0.077\n",
            "[21,   100] loss: 0.077\n",
            "[21,   200] loss: 0.074\n",
            "[21,   300] loss: 0.076\n",
            "[21,   400] loss: 0.075\n",
            "[21,   500] loss: 0.073\n",
            "[21,   600] loss: 0.075\n",
            "[22,   100] loss: 0.075\n",
            "[22,   200] loss: 0.075\n",
            "[22,   300] loss: 0.074\n",
            "[22,   400] loss: 0.072\n",
            "[22,   500] loss: 0.075\n",
            "[22,   600] loss: 0.074\n",
            "[23,   100] loss: 0.077\n",
            "[23,   200] loss: 0.074\n",
            "[23,   300] loss: 0.071\n",
            "[23,   400] loss: 0.071\n",
            "[23,   500] loss: 0.075\n",
            "[23,   600] loss: 0.073\n",
            "[24,   100] loss: 0.071\n",
            "[24,   200] loss: 0.071\n",
            "[24,   300] loss: 0.071\n",
            "[24,   400] loss: 0.071\n",
            "[24,   500] loss: 0.074\n",
            "[24,   600] loss: 0.074\n",
            "[25,   100] loss: 0.071\n",
            "[25,   200] loss: 0.073\n",
            "[25,   300] loss: 0.072\n",
            "[25,   400] loss: 0.072\n",
            "[25,   500] loss: 0.070\n",
            "[25,   600] loss: 0.070\n",
            "Finished Training\n",
            "Accuracy of the network on the 10000 test images: 98 %\n",
            "wrong prediction of the network on the 10000 test images: 125 out of 10000\n"
          ],
          "name": "stdout"
        },
        {
          "output_type": "display_data",
          "data": {
            "image/png": "[encoded data removed]",
            "text/plain": [
              "<Figure size 432x288 with 1 Axes>"
            ]
          },
          "metadata": {
            "tags": [],
            "needs_background": "light"
          }
        }
      ]
    },
    {
      "cell_type": "code",
      "metadata": {
        "id": "Lpy6sxwDcQry",
        "colab_type": "code",
        "outputId": "4a1c9b07-df65-4601-adab-64410c1c424c",
        "colab": {
          "base_uri": "https://localhost:8080/",
          "height": 52
        }
      },
      "source": [
        "## Checking test data\n",
        "correct = 0\n",
        "total = 0\n",
        "with torch.no_grad():\n",
        "    for data in testloader:\n",
        "        images, labels = data\n",
        "        outputs = student_small_T8(images.cuda())\n",
        "        _, predicted = torch.max(outputs, 1)\n",
        "        total += labels.size(0)\n",
        "        correct += (predicted.cpu() == labels).sum().item()\n",
        "            \n",
        "print('Accuracy of the network on the 10000 test images: %2f %%' % (\n",
        "    100 * correct / total))\n",
        "wrong_pred= total-correct;\n",
        "print('wrong prediction of the network on the 10000 test images:', wrong_pred,'out of',total)"
      ],
      "execution_count": 0,
      "outputs": [
        {
          "output_type": "stream",
          "text": [
            "Accuracy of the network on the 10000 test images: 98.750000 %\n",
            "wrong prediction of the network on the 10000 test images: 125 out of 10000\n"
          ],
          "name": "stdout"
        }
      ]
    },
    {
      "cell_type": "markdown",
      "metadata": {
        "colab_type": "text",
        "id": "wgr8sO4oTJhY"
      },
      "source": [
        "**2. Student network with 30 units with temperature 20 and 2.5**\n",
        "\n",
        "---\n",
        "\n"
      ]
    },
    {
      "cell_type": "markdown",
      "metadata": {
        "id": "Iu_Oa81-GUhe",
        "colab_type": "text"
      },
      "source": [
        "**Training and testing with temperature 20 on mini model**"
      ]
    },
    {
      "cell_type": "code",
      "metadata": {
        "id": "K6DBJ8xp__Vi",
        "colab_type": "code",
        "outputId": "7a8d0a97-1e56-42da-bad5-4d4851e7ff65",
        "colab": {
          "base_uri": "https://localhost:8080/",
          "height": 1000
        }
      },
      "source": [
        "student_mini_20 = StudentNetwork_mini()  \n",
        "if use_gpu:\n",
        "    student_mini_20 = student_mini_20.cuda()\n",
        "\n",
        "optimizer_mini_20 = optim.SGD(student_mini_20.parameters(),  lr=1e-2, momentum=0.9)\n",
        "scheduler = StepLR(optimizer_mini_20, step_size=30, gamma=0.1)\n",
        "T = 20;\n",
        "l = 0.3;\n",
        "\n",
        "## Training the data for different T\n",
        "loss_values =[]\n",
        "for epoch in range(25):  # loop over the dataset multiple times\n",
        "\n",
        "    running_loss = 0.0\n",
        "    scheduler.step()\n",
        "    for i, data in enumerate(trainloader, 0):\n",
        "        # get the inputs\n",
        "        inputs, labels = data\n",
        "        if use_gpu:\n",
        "            inputs = inputs.cuda()\n",
        "            labels = labels.cuda()\n",
        "        # zero the parameter gradients\n",
        "        optimizer_mini_20.zero_grad()\n",
        "\n",
        "        # forward + backward + optimize\n",
        "        output_teacher = teacherNetwork(inputs)\n",
        "        _, predicted_teacher = torch.max(output_teacher, 1)\n",
        "        output_student = student_mini_20(inputs)\n",
        "        _, predicted_student = torch.max(output_student, 1)\n",
        "        \n",
        "        #To implement the softmax principle of knowledge distiallation of teacher model into the student.\n",
        "        loss1 = F.kl_div(torch.nn.functional.log_softmax(output_student/T,dim=1),torch.nn.functional.softmax(output_teacher/T,dim=1), reduction='batchmean')\n",
        "        loss2 = criterion(output_student,labels)\n",
        "        loss = ((1-l)*loss1*(T**2)) + (l * loss2)\n",
        "        loss.backward()\n",
        "        optimizer_mini_20.step()\n",
        "\n",
        "        # print statistics\n",
        "        running_loss += loss.item()\n",
        "        if i % 100 == 99:\n",
        "            print('[%d, %5d] loss: %.3f' %\n",
        "                  (epoch + 1, i + 1, running_loss / 100))\n",
        "            loss_values.append(running_loss / len(trainset))\n",
        "            running_loss = 0.0\n",
        "\n",
        "    \n",
        "plt.plot(loss_values)\n",
        "print('Finished Training')\n",
        "\n"
      ],
      "execution_count": 0,
      "outputs": [
        {
          "output_type": "stream",
          "text": [
            "/usr/local/lib/python3.6/dist-packages/torch/optim/lr_scheduler.py:122: UserWarning: Detected call of `lr_scheduler.step()` before `optimizer.step()`. In PyTorch 1.1.0 and later, you should call them in the opposite order: `optimizer.step()` before `lr_scheduler.step()`.  Failure to do this will result in PyTorch skipping the first value of the learning rate schedule. See more details at https://pytorch.org/docs/stable/optim.html#how-to-adjust-learning-rate\n",
            "  \"https://pytorch.org/docs/stable/optim.html#how-to-adjust-learning-rate\", UserWarning)\n"
          ],
          "name": "stderr"
        },
        {
          "output_type": "stream",
          "text": [
            "[1,   100] loss: 17.803\n",
            "[1,   200] loss: 5.988\n",
            "[1,   300] loss: 3.718\n",
            "[1,   400] loss: 2.983\n",
            "[1,   500] loss: 2.469\n",
            "[1,   600] loss: 2.239\n",
            "[2,   100] loss: 2.033\n",
            "[2,   200] loss: 1.887\n",
            "[2,   300] loss: 1.690\n",
            "[2,   400] loss: 1.634\n",
            "[2,   500] loss: 1.561\n",
            "[2,   600] loss: 1.494\n",
            "[3,   100] loss: 1.415\n",
            "[3,   200] loss: 1.400\n",
            "[3,   300] loss: 1.352\n",
            "[3,   400] loss: 1.302\n",
            "[3,   500] loss: 1.326\n",
            "[3,   600] loss: 1.299\n",
            "[4,   100] loss: 1.225\n",
            "[4,   200] loss: 1.213\n",
            "[4,   300] loss: 1.190\n",
            "[4,   400] loss: 1.165\n",
            "[4,   500] loss: 1.165\n",
            "[4,   600] loss: 1.170\n",
            "[5,   100] loss: 1.149\n",
            "[5,   200] loss: 1.131\n",
            "[5,   300] loss: 1.110\n",
            "[5,   400] loss: 1.142\n",
            "[5,   500] loss: 1.108\n",
            "[5,   600] loss: 1.093\n",
            "[6,   100] loss: 1.098\n",
            "[6,   200] loss: 1.077\n",
            "[6,   300] loss: 1.078\n",
            "[6,   400] loss: 1.085\n",
            "[6,   500] loss: 1.062\n",
            "[6,   600] loss: 1.065\n",
            "[7,   100] loss: 1.038\n",
            "[7,   200] loss: 1.046\n",
            "[7,   300] loss: 1.042\n",
            "[7,   400] loss: 1.035\n",
            "[7,   500] loss: 1.013\n",
            "[7,   600] loss: 1.056\n",
            "[8,   100] loss: 1.033\n",
            "[8,   200] loss: 1.025\n",
            "[8,   300] loss: 1.017\n",
            "[8,   400] loss: 1.012\n",
            "[8,   500] loss: 1.020\n",
            "[8,   600] loss: 0.977\n",
            "[9,   100] loss: 0.976\n",
            "[9,   200] loss: 0.990\n",
            "[9,   300] loss: 0.982\n",
            "[9,   400] loss: 0.996\n",
            "[9,   500] loss: 1.000\n",
            "[9,   600] loss: 0.974\n",
            "[10,   100] loss: 1.007\n",
            "[10,   200] loss: 0.971\n",
            "[10,   300] loss: 0.953\n",
            "[10,   400] loss: 0.975\n",
            "[10,   500] loss: 0.969\n",
            "[10,   600] loss: 0.956\n",
            "[11,   100] loss: 0.963\n",
            "[11,   200] loss: 0.952\n",
            "[11,   300] loss: 0.945\n",
            "[11,   400] loss: 0.931\n",
            "[11,   500] loss: 0.940\n",
            "[11,   600] loss: 0.952\n",
            "[12,   100] loss: 0.900\n",
            "[12,   200] loss: 0.935\n",
            "[12,   300] loss: 0.926\n",
            "[12,   400] loss: 0.942\n",
            "[12,   500] loss: 0.951\n",
            "[12,   600] loss: 0.916\n",
            "[13,   100] loss: 0.915\n",
            "[13,   200] loss: 0.910\n",
            "[13,   300] loss: 0.912\n",
            "[13,   400] loss: 0.914\n",
            "[13,   500] loss: 0.915\n",
            "[13,   600] loss: 0.892\n",
            "[14,   100] loss: 0.896\n",
            "[14,   200] loss: 0.911\n",
            "[14,   300] loss: 0.897\n",
            "[14,   400] loss: 0.893\n",
            "[14,   500] loss: 0.894\n",
            "[14,   600] loss: 0.898\n",
            "[15,   100] loss: 0.882\n",
            "[15,   200] loss: 0.894\n",
            "[15,   300] loss: 0.880\n",
            "[15,   400] loss: 0.889\n",
            "[15,   500] loss: 0.872\n",
            "[15,   600] loss: 0.889\n",
            "[16,   100] loss: 0.877\n",
            "[16,   200] loss: 0.857\n",
            "[16,   300] loss: 0.877\n",
            "[16,   400] loss: 0.880\n",
            "[16,   500] loss: 0.857\n",
            "[16,   600] loss: 0.866\n",
            "[17,   100] loss: 0.843\n",
            "[17,   200] loss: 0.870\n",
            "[17,   300] loss: 0.868\n",
            "[17,   400] loss: 0.868\n",
            "[17,   500] loss: 0.848\n",
            "[17,   600] loss: 0.872\n",
            "[18,   100] loss: 0.863\n",
            "[18,   200] loss: 0.846\n",
            "[18,   300] loss: 0.848\n",
            "[18,   400] loss: 0.857\n",
            "[18,   500] loss: 0.861\n",
            "[18,   600] loss: 0.851\n",
            "[19,   100] loss: 0.856\n",
            "[19,   200] loss: 0.852\n",
            "[19,   300] loss: 0.860\n",
            "[19,   400] loss: 0.858\n",
            "[19,   500] loss: 0.823\n",
            "[19,   600] loss: 0.858\n",
            "[20,   100] loss: 0.833\n",
            "[20,   200] loss: 0.839\n",
            "[20,   300] loss: 0.824\n",
            "[20,   400] loss: 0.841\n",
            "[20,   500] loss: 0.849\n",
            "[20,   600] loss: 0.849\n",
            "[21,   100] loss: 0.828\n",
            "[21,   200] loss: 0.858\n",
            "[21,   300] loss: 0.828\n",
            "[21,   400] loss: 0.831\n",
            "[21,   500] loss: 0.833\n",
            "[21,   600] loss: 0.833\n",
            "[22,   100] loss: 0.807\n",
            "[22,   200] loss: 0.823\n",
            "[22,   300] loss: 0.836\n",
            "[22,   400] loss: 0.823\n",
            "[22,   500] loss: 0.813\n",
            "[22,   600] loss: 0.837\n",
            "[23,   100] loss: 0.818\n",
            "[23,   200] loss: 0.812\n",
            "[23,   300] loss: 0.843\n",
            "[23,   400] loss: 0.810\n",
            "[23,   500] loss: 0.836\n",
            "[23,   600] loss: 0.809\n",
            "[24,   100] loss: 0.808\n",
            "[24,   200] loss: 0.810\n",
            "[24,   300] loss: 0.826\n",
            "[24,   400] loss: 0.827\n",
            "[24,   500] loss: 0.814\n",
            "[24,   600] loss: 0.797\n",
            "[25,   100] loss: 0.817\n",
            "[25,   200] loss: 0.801\n",
            "[25,   300] loss: 0.819\n",
            "[25,   400] loss: 0.807\n",
            "[25,   500] loss: 0.805\n",
            "[25,   600] loss: 0.828\n",
            "Finished Training\n"
          ],
          "name": "stdout"
        },
        {
          "output_type": "display_data",
          "data": {
            "image/png": "[encoded data removed]",
            "text/plain": [
              "<Figure size 432x288 with 1 Axes>"
            ]
          },
          "metadata": {
            "tags": [],
            "needs_background": "light"
          }
        }
      ]
    },
    {
      "cell_type": "code",
      "metadata": {
        "id": "CQefH2OdclXd",
        "colab_type": "code",
        "outputId": "454d1448-0871-4a46-a5d8-e2f904e1767d",
        "colab": {
          "base_uri": "https://localhost:8080/",
          "height": 52
        }
      },
      "source": [
        "## Checking test data\n",
        "correct = 0\n",
        "total = 0\n",
        "with torch.no_grad():\n",
        "    for data in testloader:\n",
        "        images, labels = data\n",
        "        outputs = student_mini_20(images.cuda())\n",
        "        _, predicted = torch.max(outputs, 1)\n",
        "        total += labels.size(0)\n",
        "        correct += (predicted.cpu() == labels).sum().item()\n",
        "            \n",
        "print('Accuracy of the network on the 10000 test images: %2f %%' % (\n",
        "    100 * correct / total))\n",
        "wrong_pred= total-correct;\n",
        "print('wrong prediction of the network on the 10000 test images:', wrong_pred,'out of',total)"
      ],
      "execution_count": 0,
      "outputs": [
        {
          "output_type": "stream",
          "text": [
            "Accuracy of the network on the 10000 test images: 97.640000 %\n",
            "wrong prediction of the network on the 10000 test images: 236 out of 10000\n"
          ],
          "name": "stdout"
        }
      ]
    },
    {
      "cell_type": "markdown",
      "metadata": {
        "colab_type": "text",
        "id": "qOzaLfGqTgab"
      },
      "source": [
        "**Training and testing with temperature 2.5 on mini model**"
      ]
    },
    {
      "cell_type": "code",
      "metadata": {
        "id": "I2mVUWWCG5Bh",
        "colab_type": "code",
        "outputId": "ae9e4c7c-fc4c-4481-e7b7-62be1b040418",
        "colab": {
          "base_uri": "https://localhost:8080/",
          "height": 1000
        }
      },
      "source": [
        "student_mini = StudentNetwork_mini()  \n",
        "if use_gpu:\n",
        "    student_mini = student_mini.cuda()\n",
        "\n",
        "optimizer_mini = optim.SGD(student_mini.parameters(),  lr=1e-2, momentum=0.9)\n",
        "scheduler = StepLR(optimizer_mini, step_size=30, gamma=0.1)\n",
        "T = 2.5;\n",
        "l = 0.3;\n",
        "\n",
        "## Training the data for different T\n",
        "loss_values =[]\n",
        "for epoch in range(25):  # loop over the dataset multiple times\n",
        "\n",
        "    running_loss = 0.0\n",
        "    scheduler.step()\n",
        "    for i, data in enumerate(trainloader, 0):\n",
        "        # get the inputs\n",
        "        inputs, labels = data\n",
        "        if use_gpu:\n",
        "            inputs = inputs.cuda()\n",
        "            labels = labels.cuda()\n",
        "        # zero the parameter gradients\n",
        "        optimizer_mini.zero_grad()\n",
        "\n",
        "        # forward + backward + optimize\n",
        "        output_teacher = teacherNetwork(inputs)\n",
        "        _, predicted_teacher = torch.max(output_teacher, 1)\n",
        "        output_student = student_mini(inputs)\n",
        "        _, predicted_student = torch.max(output_student, 1)\n",
        "        \n",
        "        #To implement the softmax principle of knowledge distiallation of teacher model into the student.\n",
        "        loss1 = F.kl_div(torch.nn.functional.log_softmax(output_student/T,dim=1),torch.nn.functional.softmax(output_teacher/T,dim=1), reduction='batchmean')\n",
        "        loss2 = criterion(output_student,labels)\n",
        "        loss = ((1-l)*loss1*(T**2)) + (l * loss2)\n",
        "        loss.backward()\n",
        "        optimizer_mini.step()\n",
        "\n",
        "        # print statistics\n",
        "        running_loss += loss.item()\n",
        "        if i % 100 == 99:\n",
        "            print('[%d, %5d] loss: %.3f' %\n",
        "                  (epoch + 1, i + 1, running_loss / 100))\n",
        "            loss_values.append(running_loss / len(trainset))\n",
        "            running_loss = 0.0\n",
        "\n",
        "    \n",
        "plt.plot(loss_values)\n",
        "print('Finished Training')\n"
      ],
      "execution_count": 0,
      "outputs": [
        {
          "output_type": "stream",
          "text": [
            "/usr/local/lib/python3.6/dist-packages/torch/optim/lr_scheduler.py:122: UserWarning: Detected call of `lr_scheduler.step()` before `optimizer.step()`. In PyTorch 1.1.0 and later, you should call them in the opposite order: `optimizer.step()` before `lr_scheduler.step()`.  Failure to do this will result in PyTorch skipping the first value of the learning rate schedule. See more details at https://pytorch.org/docs/stable/optim.html#how-to-adjust-learning-rate\n",
            "  \"https://pytorch.org/docs/stable/optim.html#how-to-adjust-learning-rate\", UserWarning)\n"
          ],
          "name": "stderr"
        },
        {
          "output_type": "stream",
          "text": [
            "[1,   100] loss: 8.005\n",
            "[1,   200] loss: 2.714\n",
            "[1,   300] loss: 1.811\n",
            "[1,   400] loss: 1.419\n",
            "[1,   500] loss: 1.185\n",
            "[1,   600] loss: 1.071\n",
            "[2,   100] loss: 0.907\n",
            "[2,   200] loss: 0.785\n",
            "[2,   300] loss: 0.738\n",
            "[2,   400] loss: 0.677\n",
            "[2,   500] loss: 0.628\n",
            "[2,   600] loss: 0.626\n",
            "[3,   100] loss: 0.557\n",
            "[3,   200] loss: 0.558\n",
            "[3,   300] loss: 0.509\n",
            "[3,   400] loss: 0.479\n",
            "[3,   500] loss: 0.469\n",
            "[3,   600] loss: 0.471\n",
            "[4,   100] loss: 0.449\n",
            "[4,   200] loss: 0.424\n",
            "[4,   300] loss: 0.412\n",
            "[4,   400] loss: 0.391\n",
            "[4,   500] loss: 0.428\n",
            "[4,   600] loss: 0.385\n",
            "[5,   100] loss: 0.396\n",
            "[5,   200] loss: 0.373\n",
            "[5,   300] loss: 0.366\n",
            "[5,   400] loss: 0.372\n",
            "[5,   500] loss: 0.358\n",
            "[5,   600] loss: 0.329\n",
            "[6,   100] loss: 0.342\n",
            "[6,   200] loss: 0.348\n",
            "[6,   300] loss: 0.329\n",
            "[6,   400] loss: 0.323\n",
            "[6,   500] loss: 0.326\n",
            "[6,   600] loss: 0.325\n",
            "[7,   100] loss: 0.292\n",
            "[7,   200] loss: 0.318\n",
            "[7,   300] loss: 0.310\n",
            "[7,   400] loss: 0.314\n",
            "[7,   500] loss: 0.321\n",
            "[7,   600] loss: 0.301\n",
            "[8,   100] loss: 0.286\n",
            "[8,   200] loss: 0.313\n",
            "[8,   300] loss: 0.286\n",
            "[8,   400] loss: 0.281\n",
            "[8,   500] loss: 0.293\n",
            "[8,   600] loss: 0.283\n",
            "[9,   100] loss: 0.264\n",
            "[9,   200] loss: 0.267\n",
            "[9,   300] loss: 0.290\n",
            "[9,   400] loss: 0.268\n",
            "[9,   500] loss: 0.281\n",
            "[9,   600] loss: 0.263\n",
            "[10,   100] loss: 0.263\n",
            "[10,   200] loss: 0.279\n",
            "[10,   300] loss: 0.284\n",
            "[10,   400] loss: 0.254\n",
            "[10,   500] loss: 0.267\n",
            "[10,   600] loss: 0.244\n",
            "[11,   100] loss: 0.245\n",
            "[11,   200] loss: 0.261\n",
            "[11,   300] loss: 0.257\n",
            "[11,   400] loss: 0.233\n",
            "[11,   500] loss: 0.260\n",
            "[11,   600] loss: 0.267\n",
            "[12,   100] loss: 0.238\n",
            "[12,   200] loss: 0.242\n",
            "[12,   300] loss: 0.266\n",
            "[12,   400] loss: 0.254\n",
            "[12,   500] loss: 0.265\n",
            "[12,   600] loss: 0.245\n",
            "[13,   100] loss: 0.244\n",
            "[13,   200] loss: 0.230\n",
            "[13,   300] loss: 0.244\n",
            "[13,   400] loss: 0.226\n",
            "[13,   500] loss: 0.231\n",
            "[13,   600] loss: 0.266\n",
            "[14,   100] loss: 0.241\n",
            "[14,   200] loss: 0.221\n",
            "[14,   300] loss: 0.234\n",
            "[14,   400] loss: 0.236\n",
            "[14,   500] loss: 0.241\n",
            "[14,   600] loss: 0.248\n",
            "[15,   100] loss: 0.214\n",
            "[15,   200] loss: 0.219\n",
            "[15,   300] loss: 0.225\n",
            "[15,   400] loss: 0.230\n",
            "[15,   500] loss: 0.233\n",
            "[15,   600] loss: 0.227\n",
            "[16,   100] loss: 0.223\n",
            "[16,   200] loss: 0.242\n",
            "[16,   300] loss: 0.216\n",
            "[16,   400] loss: 0.235\n",
            "[16,   500] loss: 0.218\n",
            "[16,   600] loss: 0.224\n",
            "[17,   100] loss: 0.241\n",
            "[17,   200] loss: 0.218\n",
            "[17,   300] loss: 0.216\n",
            "[17,   400] loss: 0.233\n",
            "[17,   500] loss: 0.213\n",
            "[17,   600] loss: 0.218\n",
            "[18,   100] loss: 0.228\n",
            "[18,   200] loss: 0.218\n",
            "[18,   300] loss: 0.209\n",
            "[18,   400] loss: 0.210\n",
            "[18,   500] loss: 0.204\n",
            "[18,   600] loss: 0.232\n",
            "[19,   100] loss: 0.219\n",
            "[19,   200] loss: 0.211\n",
            "[19,   300] loss: 0.207\n",
            "[19,   400] loss: 0.215\n",
            "[19,   500] loss: 0.226\n",
            "[19,   600] loss: 0.214\n",
            "[20,   100] loss: 0.190\n",
            "[20,   200] loss: 0.216\n",
            "[20,   300] loss: 0.197\n",
            "[20,   400] loss: 0.218\n",
            "[20,   500] loss: 0.220\n",
            "[20,   600] loss: 0.214\n",
            "[21,   100] loss: 0.204\n",
            "[21,   200] loss: 0.201\n",
            "[21,   300] loss: 0.216\n",
            "[21,   400] loss: 0.214\n",
            "[21,   500] loss: 0.198\n",
            "[21,   600] loss: 0.207\n",
            "[22,   100] loss: 0.201\n",
            "[22,   200] loss: 0.208\n",
            "[22,   300] loss: 0.207\n",
            "[22,   400] loss: 0.209\n",
            "[22,   500] loss: 0.205\n",
            "[22,   600] loss: 0.192\n",
            "[23,   100] loss: 0.206\n",
            "[23,   200] loss: 0.206\n",
            "[23,   300] loss: 0.207\n",
            "[23,   400] loss: 0.198\n",
            "[23,   500] loss: 0.201\n",
            "[23,   600] loss: 0.207\n",
            "[24,   100] loss: 0.204\n",
            "[24,   200] loss: 0.194\n",
            "[24,   300] loss: 0.192\n",
            "[24,   400] loss: 0.206\n",
            "[24,   500] loss: 0.209\n",
            "[24,   600] loss: 0.211\n",
            "[25,   100] loss: 0.200\n",
            "[25,   200] loss: 0.194\n",
            "[25,   300] loss: 0.201\n",
            "[25,   400] loss: 0.190\n",
            "[25,   500] loss: 0.196\n",
            "[25,   600] loss: 0.196\n",
            "Finished Training\n"
          ],
          "name": "stdout"
        },
        {
          "output_type": "display_data",
          "data": {
            "image/png": "[encoded data removed]",
            "text/plain": [
              "<Figure size 432x288 with 1 Axes>"
            ]
          },
          "metadata": {
            "tags": [],
            "needs_background": "light"
          }
        }
      ]
    },
    {
      "cell_type": "code",
      "metadata": {
        "id": "v-qJ_L-jqp0-",
        "colab_type": "code",
        "outputId": "926b94ed-f28d-4a1f-fc8d-9fbc4c14eb3f",
        "colab": {
          "base_uri": "https://localhost:8080/",
          "height": 52
        }
      },
      "source": [
        "## Checking test data\n",
        "correct = 0\n",
        "total = 0\n",
        "with torch.no_grad():\n",
        "    for data in testloader:\n",
        "        images, labels = data\n",
        "        outputs = student_mini(images.cuda())\n",
        "        _, predicted = torch.max(outputs, 1)\n",
        "        total += labels.size(0)\n",
        "        correct += (predicted.cpu() == labels).sum().item()\n",
        "            \n",
        "print('Accuracy of the network on the 10000 test images: %2f %%' % (\n",
        "    100 * correct / total))\n",
        "wrong_pred= total-correct;\n",
        "print('wrong prediction of the network on the 10000 test images:', wrong_pred,'out of',total)"
      ],
      "execution_count": 0,
      "outputs": [
        {
          "output_type": "stream",
          "text": [
            "Accuracy of the network on the 10000 test images: 97.780000 %\n",
            "wrong prediction of the network on the 10000 test images: 222 out of 10000\n"
          ],
          "name": "stdout"
        }
      ]
    }
  ]
}